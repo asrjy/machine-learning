{
 "cells": [
  {
   "cell_type": "markdown",
   "id": "81e844b4",
   "metadata": {},
   "source": [
    "### The Building blocks of CNNs"
   ]
  },
  {
   "cell_type": "markdown",
   "id": "d97c2c9f",
   "metadata": {},
   "source": [
    "conv architectures are often described as feature extraction layers"
   ]
  },
  {
   "cell_type": "markdown",
   "id": "ae7086b6",
   "metadata": {},
   "source": [
    "### Understanding CNNs and feature heirarchies"
   ]
  },
  {
   "cell_type": "markdown",
   "id": "fe47713a",
   "metadata": {},
   "source": [
    "CNNs can automatically learn the features from raw data that are \n",
    "most useful for a particular task. so it's common to consider CNN\n",
    "layers as feature extractors. \n",
    "\n",
    "these are the first layers and later their findings are exploited by \n",
    "fully connected layers/MLPs. \n",
    "\n",
    "feature heirarchy: constructed by deep CNNs where they combine \n",
    "low level features in a layer wise fashion to form high level features\n",
    "for example, edges and blobs extracted from earlier layers are \n",
    "combined to form high level features. these high level features can \n",
    "form more complex shapes\n",
    "\n",
    "local receptive field: local patch of pixels which correspond to only one element of the feature matrix.\n",
    "\n",
    "cnns work well because of two ideas\n",
    "1. sparse connnectivity: opposed to fully connected layers where each pixel\n",
    "is connected to the hidden nodes, only a selected pixels are connected to each node in the feature map. \n",
    "2. parameter sharing: same weights are used for different patches of the input image. \n",
    "\n",
    "as a result, using a convolution layer substantially reduces the number of weights. \n",
    "it makes sense to assume nearby pixels are correlated in an image. \n",
    "it improves the ability to capture salient features.\n",
    "\n",
    "typical cnn has several convolution and subsampling layer with fully connected layers at the end. \n",
    "these subsampling layers are also called pooling layers and have no parameters. only the convolution layers\n",
    "and the fully connected layers have learnable parameters. "
   ]
  },
  {
   "cell_type": "markdown",
   "id": "62aa2ddf",
   "metadata": {},
   "source": [
    "### Performing discrete convolutions"
   ]
  },
  {
   "attachments": {
    "197dc47c-9787-42cb-9dcf-388ae4acb346.png": {
     "image/png": "[encoded data removed]"
    },
    "1ed0ede0-becf-41b0-a1ad-bd2853975b40.png": {
     "image/png": "[encoded data removed]"
    }
   },
   "cell_type": "markdown",
   "id": "87404c83",
   "metadata": {},
   "source": [
    "fundamental operation in a cnn\n",
    "\n",
    "a discrete convolution for two vectors x and w is denoted by y = x * w. x is the input and w is the filter/kernel. \n",
    "![image.png](attachment:197dc47c-9787-42cb-9dcf-388ae4acb346.png)\n",
    "\n",
    "here the summation runs from negative infinite to infinite. in machine learning, we only work with finite \n",
    "feature vectors. so this is not useful in practical application. in practice, x is padded with a finite \n",
    "number of zeros. \n",
    "\n",
    "this is called zero-padding. \n",
    "\n",
    "so if x originally had n elements, the padded x would have n+2p (2 p because p zeros are padded on each side)\n",
    "\n",
    "now the equation becomes\n",
    "\n",
    "![image.png](attachment:1ed0ede0-becf-41b0-a1ad-bd2853975b40.png)\n",
    "\n",
    "ßß"
   ]
  },
  {
   "cell_type": "code",
   "execution_count": null,
   "id": "6907947b",
   "metadata": {},
   "outputs": [],
   "source": []
  }
 ],
 "metadata": {
  "kernelspec": {
   "display_name": "Python 3 (ipykernel)",
   "language": "python",
   "name": "python3"
  },
  "language_info": {
   "codemirror_mode": {
    "name": "ipython",
    "version": 3
   },
   "file_extension": ".py",
   "mimetype": "text/x-python",
   "name": "python",
   "nbconvert_exporter": "python",
   "pygments_lexer": "ipython3",
   "version": "3.8.13"
  }
 },
 "nbformat": 4,
 "nbformat_minor": 5
}
