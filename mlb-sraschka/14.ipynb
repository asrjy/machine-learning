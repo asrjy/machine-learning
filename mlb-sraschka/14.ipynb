{
 "cells": [
  {
   "cell_type": "markdown",
   "id": "a36e16c1",
   "metadata": {},
   "source": [
    "### The Building blocks of CNNs"
   ]
  },
  {
   "cell_type": "code",
   "execution_count": 1,
   "id": "2d4f5495",
   "metadata": {},
   "outputs": [],
   "source": [
    "# conv architectures are often described as feature extraction layers"
   ]
  },
  {
   "cell_type": "markdown",
   "id": "4462d49a",
   "metadata": {},
   "source": [
    "### Understanding CNNs and feature heirarchies"
   ]
  },
  {
   "cell_type": "code",
   "execution_count": null,
   "id": "0151a305",
   "metadata": {},
   "outputs": [],
   "source": [
    "# CNNs can automatically learn the features from raw data that are \n",
    "# most useful for a particular task. so it's common to consider CNN\n",
    "# layers as feature extractors. \n",
    "\n",
    "# these are the first layers and later their findings are exploited by \n",
    "# fully connected layers/MLPs. \n",
    "\n",
    "# feature heirarchy: constructed by deep CNNs where they combine \n",
    "# low level features in a layer wise fashion to form high level features\n",
    "# for example, edges and blobs extracted from earlier layers are \n",
    "# combined to form high level features. these high level features can \n",
    "# form more complex shapes\n",
    "\n",
    "# local receptive field: local patch of pixels which correspond to only one element of the feature matrix.\n",
    "\n",
    "# cnns work well because of two ideas\n",
    "# 1. sparse connnectivity: opposed to fully connected layers where each pixel\n",
    "# is connected to the hidden nodes, only a selected pixels are connected to each node in the feature map. \n",
    "# 2. parameter sharing: same weights are used for different patches of the input image. \n",
    "\n",
    "# as a result, using a convolution layer substantially reduces the number of weights. \n",
    "# it makes sense to assume nearby pixels are correlated in an image. \n",
    "\n",
    "# "
   ]
  },
  {
   "cell_type": "code",
   "execution_count": null,
   "id": "bb67d171",
   "metadata": {},
   "outputs": [],
   "source": []
  }
 ],
 "metadata": {
  "kernelspec": {
   "display_name": "Python 3 (ipykernel)",
   "language": "python",
   "name": "python3"
  },
  "language_info": {
   "codemirror_mode": {
    "name": "ipython",
    "version": 3
   },
   "file_extension": ".py",
   "mimetype": "text/x-python",
   "name": "python",
   "nbconvert_exporter": "python",
   "pygments_lexer": "ipython3",
   "version": "3.8.13"
  }
 },
 "nbformat": 4,
 "nbformat_minor": 5
}
