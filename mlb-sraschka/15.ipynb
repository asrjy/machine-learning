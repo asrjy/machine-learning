{
 "cells": [
  {
   "cell_type": "markdown",
   "metadata": {},
   "source": [
    "### Introductin Sequential Data\n",
    "#### Order\n",
    "What makes seuqntial data different from the rest is that, elements adjacent to each other are not independent. In other data, the elements are assumed to be independent and identically distributed (IID Data)\n",
    "\n",
    "For example even if you shuffle the rows of iris dataset you get the same result with a specific model. But if you shuffle the rows in a timeseries data, you may get different results each time you run it. \n",
    "\n",
    "#### Sequential vs Time Series data\n",
    "Ordered and with time feature = time series data. Example; stock prices, voice or speech records\n",
    "\n",
    "Ordered and no time feature = sequential data. Example; dna sequence, text data\n",
    "\n",
    "#### Representing the sequences\n"
   ]
  }
 ],
 "metadata": {
  "language_info": {
   "name": "python"
  },
  "orig_nbformat": 4
 },
 "nbformat": 4,
 "nbformat_minor": 2
}
