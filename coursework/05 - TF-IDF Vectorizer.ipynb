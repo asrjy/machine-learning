{
 "cells": [
  {
   "cell_type": "markdown",
   "metadata": {
    "colab_type": "text",
    "id": "h9464I-uxLiw"
   },
   "source": [
    "# Assignment"
   ]
  },
  {
   "cell_type": "markdown",
   "metadata": {
    "colab_type": "text",
    "id": "IvLvmewlxLix"
   },
   "source": [
    "<font face='georgia'>\n",
    "    \n",
    "   <h4><strong>What does tf-idf mean?</strong></h4>\n",
    "\n",
    "   <p>    \n",
    "Tf-idf stands for <em>term frequency-inverse document frequency</em>, and the tf-idf weight is a weight often used in information retrieval and text mining. This weight is a statistical measure used to evaluate how important a word is to a document in a collection or corpus. The importance increases proportionally to the number of times a word appears in the document but is offset by the frequency of the word in the corpus. Variations of the tf-idf weighting scheme are often used by search engines as a central tool in scoring and ranking a document's relevance given a user query.\n",
    "</p>\n",
    "    \n",
    "   <p>\n",
    "One of the simplest ranking functions is computed by summing the tf-idf for each query term; many more sophisticated ranking functions are variants of this simple model.\n",
    "</p>\n",
    "    \n",
    "   <p>\n",
    "Tf-idf can be successfully used for stop-words filtering in various subject fields including text summarization and classification.\n",
    "</p>\n",
    "    \n",
    "</font>"
   ]
  },
  {
   "cell_type": "markdown",
   "metadata": {
    "colab_type": "text",
    "id": "4XLaGFUMxLiy"
   },
   "source": [
    "<font face='georgia'>\n",
    "    <h4><strong>How to Compute:</strong></h4>\n",
    "\n",
    "Typically, the tf-idf weight is composed by two terms: the first computes the normalized Term Frequency (TF), aka. the number of times a word appears in a document, divided by the total number of words in that document; the second term is the Inverse Document Frequency (IDF), computed as the logarithm of the number of the documents in the corpus divided by the number of documents where the specific term appears.\n",
    "\n",
    " <ul>\n",
    "    <li>\n",
    "<strong>TF:</strong> Term Frequency, which measures how frequently a term occurs in a document. Since every document is different in length, it is possible that a term would appear much more times in long documents than shorter ones. Thus, the term frequency is often divided by the document length (aka. the total number of terms in the document) as a way of normalization: <br>\n",
    "\n",
    "$TF(t) = \\frac{\\text{Number of times term t appears in a document}}{\\text{Total number of terms in the document}}.$\n",
    "</li>\n",
    "<li>\n",
    "<strong>IDF:</strong> Inverse Document Frequency, which measures how important a term is. While computing TF, all terms are considered equally important. However it is known that certain terms, such as \"is\", \"of\", and \"that\", may appear a lot of times but have little importance. Thus we need to weigh down the frequent terms while scale up the rare ones, by computing the following: <br>\n",
    "\n",
    "$IDF(t) = \\log_{e}\\frac{\\text{Total  number of documents}} {\\text{Number of documents with term t in it}}.$\n",
    "for numerical stabiltiy we will be changing this formula little bit\n",
    "    \n",
    "$IDF(t) = \\log_{e}\\frac{\\text{Total  number of documents}} {\\text{Number of documents with term t in it}+1}.$\n",
    "</li>\n",
    "</ul>\n",
    "\n",
    "<br>\n",
    "<h4><strong>Example</strong></h4>\n",
    "<p>\n",
    "\n",
    "Consider a document containing 100 words wherein the word cat appears 3 times. The term frequency (i.e., tf) for cat is then (3 / 100) = 0.03. Now, assume we have 10 million documents and the word cat appears in one thousand of these. Then, the inverse document frequency (i.e., idf) is calculated as log(10,000,000 / 1,000) = 4. Thus, the Tf-idf weight is the product of these quantities: 0.03 * 4 = 0.12.\n",
    "</p>\n",
    "</font>"
   ]
  },
  {
   "cell_type": "markdown",
   "metadata": {
    "colab_type": "text",
    "id": "dg2ooa4DxLiz"
   },
   "source": [
    "## Task-1"
   ]
  },
  {
   "cell_type": "markdown",
   "metadata": {
    "colab_type": "text",
    "id": "TAcTjhO8xLiz"
   },
   "source": [
    "<font face='georgia'>\n",
    "    <h4><strong>1. Build a TFIDF Vectorizer & compare its results with Sklearn:</strong></h4>\n",
    "\n",
    "<ul>\n",
    "    <li> As a part of this task you will be implementing TFIDF vectorizer on a collection of text documents.</li>\n",
    "    <br>\n",
    "    <li> You should compare the results of your own implementation of TFIDF vectorizer with that of sklearns implemenation TFIDF vectorizer.</li>\n",
    "    <br>\n",
    "    <li> Sklearn does few more tweaks in the implementation of its version of TFIDF vectorizer, so to replicate the exact results you would need to add following things to your custom implementation of tfidf vectorizer:\n",
    "       <ol>\n",
    "        <li> Sklearn has its vocabulary generated from idf sroted in alphabetical order</li>\n",
    "        <li> Sklearn formula of idf is different from the standard textbook formula. Here the constant <strong>\"1\"</strong> is added to the numerator and denominator of the idf as if an extra document was seen containing every term in the collection exactly once, which prevents zero divisions.\n",
    "            \n",
    " $IDF(t) = 1+\\log_{e}\\frac{1\\text{ }+\\text{ Total  number of documents in collection}} {1+\\text{Number of documents with term t in it}}.$\n",
    "        </li>\n",
    "        <li> Sklearn applies L2-normalization on its output matrix.</li>\n",
    "        <li> The final output of sklearn tfidf vectorizer is a sparse matrix.</li>\n",
    "    </ol>\n",
    "    <br>\n",
    "    <li>Steps to approach this task:\n",
    "    <ol>\n",
    "        <li> You would have to write both fit and transform methods for your custom implementation of tfidf vectorizer.</li>\n",
    "        <li> Print out the alphabetically sorted voacb after you fit your data and check if its the same as that of the feature names from sklearn tfidf vectorizer. </li>\n",
    "        <li> Print out the idf values from your implementation and check if its the same as that of sklearns tfidf vectorizer idf values. </li>\n",
    "        <li> Once you get your voacb and idf values to be same as that of sklearns implementation of tfidf vectorizer, proceed to the below steps. </li>\n",
    "        <li> Make sure the output of your implementation is a sparse matrix. Before generating the final output, you need to normalize your sparse matrix using L2 normalization. You can refer to this link https://scikit-learn.org/stable/modules/generated/sklearn.preprocessing.normalize.html </li>\n",
    "        <li> After completing the above steps, print the output of your custom implementation and compare it with sklearns implementation of tfidf vectorizer.</li>\n",
    "        <li> To check the output of a single document in your collection of documents,  you can convert the sparse matrix related only to that document into dense matrix and print it.</li>\n",
    "        </ol>\n",
    "    </li>\n",
    "    <br>\n",
    "   </ul>\n",
    "\n",
    "  <p> <font color=\"#e60000\"><strong>Note-1: </strong></font> All the necessary outputs of sklearns tfidf vectorizer have been provided as reference in this notebook, you can compare your outputs as mentioned in the above steps, with these outputs.<br>\n",
    "   <font color=\"#e60000\"><strong>Note-2: </strong></font> The output of your custom implementation and that of sklearns implementation would match only with the collection of document strings provided to you as reference in this notebook. It would not match for strings that contain capital letters or punctuations, etc, because sklearn version of tfidf vectorizer deals with such strings in a different way. To know further details about how sklearn tfidf vectorizer works with such string, you can always refer to its official documentation.<br>\n",
    "   <font color=\"#e60000\"><strong>Note-3: </strong></font> During this task, it would be helpful for you to debug the code you write with print statements wherever necessary. But when you are finally submitting the assignment, make sure your code is readable and try not to print things which are not part of this task.\n",
    "    </p>"
   ]
  },
  {
   "cell_type": "markdown",
   "metadata": {
    "colab_type": "text",
    "id": "OnV82tg1xLi0"
   },
   "source": [
    "### Corpus"
   ]
  },
  {
   "cell_type": "code",
   "execution_count": 1,
   "metadata": {
    "colab": {},
    "colab_type": "code",
    "id": "bUsYm9wjxLi1"
   },
   "outputs": [],
   "source": [
    "corpus_1 = [\n",
    "     'this is the first document',\n",
    "     'this document is the second document',\n",
    "     'and this is the third one',\n",
    "     'is this the first document',\n",
    "]"
   ]
  },
  {
   "cell_type": "markdown",
   "metadata": {
    "colab_type": "text",
    "id": "eLwmFZfKxLi4"
   },
   "source": [
    "### SkLearn Implementation\n",
    "\n",
    "#### Using sklearn to get the tfidf values and then implementing it myself to compare the values"
   ]
  },
  {
   "cell_type": "code",
   "execution_count": 2,
   "metadata": {
    "colab": {},
    "colab_type": "code",
    "id": "Np4dfQOkxLi4"
   },
   "outputs": [],
   "source": [
    "from sklearn.feature_extraction.text import TfidfVectorizer\n",
    "vectorizer = TfidfVectorizer()\n",
    "vectorizer.fit(corpus_1)\n",
    "skl_output = vectorizer.transform(corpus_1)"
   ]
  },
  {
   "cell_type": "code",
   "execution_count": 3,
   "metadata": {
    "colab": {},
    "colab_type": "code",
    "id": "-7Om8YpYxLi6",
    "outputId": "0a3bd0f5-4424-4400-944f-4482a80bd799"
   },
   "outputs": [
    {
     "name": "stdout",
     "output_type": "stream",
     "text": [
      "['and', 'document', 'first', 'is', 'one', 'second', 'the', 'third', 'this']\n"
     ]
    }
   ],
   "source": [
    "print(vectorizer.get_feature_names())"
   ]
  },
  {
   "cell_type": "code",
   "execution_count": 4,
   "metadata": {},
   "outputs": [
    {
     "name": "stdout",
     "output_type": "stream",
     "text": [
      "{'this': 8, 'is': 3, 'the': 6, 'first': 2, 'document': 1, 'second': 5, 'and': 0, 'third': 7, 'one': 4}\n"
     ]
    }
   ],
   "source": [
    "print(vectorizer.vocabulary_)"
   ]
  },
  {
   "cell_type": "code",
   "execution_count": 5,
   "metadata": {
    "colab": {},
    "colab_type": "code",
    "id": "dTKplK96xLi-",
    "outputId": "53722fa2-6756-4aa0-f179-37b578bb6890"
   },
   "outputs": [
    {
     "name": "stdout",
     "output_type": "stream",
     "text": [
      "[1.91629073 1.22314355 1.51082562 1.         1.91629073 1.91629073\n",
      " 1.         1.91629073 1.        ]\n"
     ]
    }
   ],
   "source": [
    "print(vectorizer.idf_)"
   ]
  },
  {
   "cell_type": "code",
   "execution_count": 6,
   "metadata": {
    "colab": {},
    "colab_type": "code",
    "id": "-CTiWHygxLjA",
    "outputId": "8d5a9cde-2c29-4afe-f7b4-1547e88dba4f"
   },
   "outputs": [
    {
     "data": {
      "text/plain": [
       "(4, 9)"
      ]
     },
     "execution_count": 6,
     "metadata": {},
     "output_type": "execute_result"
    }
   ],
   "source": [
    "skl_output.shape"
   ]
  },
  {
   "cell_type": "code",
   "execution_count": 7,
   "metadata": {
    "colab": {},
    "colab_type": "code",
    "id": "bDKEpbA-xLjD",
    "outputId": "87dafd65-5313-443f-8c6e-1b05cc8c2543"
   },
   "outputs": [
    {
     "name": "stdout",
     "output_type": "stream",
     "text": [
      "  (0, 8)\t0.38408524091481483\n",
      "  (0, 6)\t0.38408524091481483\n",
      "  (0, 3)\t0.38408524091481483\n",
      "  (0, 2)\t0.5802858236844359\n",
      "  (0, 1)\t0.46979138557992045\n"
     ]
    }
   ],
   "source": [
    "print(skl_output[0])"
   ]
  },
  {
   "cell_type": "code",
   "execution_count": 8,
   "metadata": {},
   "outputs": [
    {
     "data": {
      "text/plain": [
       "array([[0.        , 0.46979139, 0.58028582, 0.38408524, 0.        ,\n",
       "        0.        , 0.38408524, 0.        , 0.38408524],\n",
       "       [0.        , 0.6876236 , 0.        , 0.28108867, 0.        ,\n",
       "        0.53864762, 0.28108867, 0.        , 0.28108867],\n",
       "       [0.51184851, 0.        , 0.        , 0.26710379, 0.51184851,\n",
       "        0.        , 0.26710379, 0.51184851, 0.26710379],\n",
       "       [0.        , 0.46979139, 0.58028582, 0.38408524, 0.        ,\n",
       "        0.        , 0.38408524, 0.        , 0.38408524]])"
      ]
     },
     "execution_count": 8,
     "metadata": {},
     "output_type": "execute_result"
    }
   ],
   "source": [
    "skl_output.toarray()"
   ]
  },
  {
   "cell_type": "code",
   "execution_count": 9,
   "metadata": {
    "colab": {},
    "colab_type": "code",
    "id": "3QWo34hexLjF",
    "outputId": "cdc04e08-989f-4bdc-dd7f-f1c82a9f90be"
   },
   "outputs": [
    {
     "name": "stdout",
     "output_type": "stream",
     "text": [
      "[[0.         0.46979139 0.58028582 0.38408524 0.         0.\n",
      "  0.38408524 0.         0.38408524]]\n"
     ]
    }
   ],
   "source": [
    "print(skl_output[0].toarray())"
   ]
  },
  {
   "cell_type": "markdown",
   "metadata": {
    "colab_type": "text",
    "id": "qfIwx5LzxLjI"
   },
   "source": [
    "### Your custom implementation"
   ]
  },
  {
   "cell_type": "markdown",
   "metadata": {},
   "source": [
    "Importing all necessary modules and packages"
   ]
  },
  {
   "cell_type": "code",
   "execution_count": 10,
   "metadata": {
    "colab": {},
    "colab_type": "code",
    "id": "HjuCcJwXxLjJ"
   },
   "outputs": [],
   "source": [
    "from collections import Counter\n",
    "from tqdm import tqdm\n",
    "from scipy.sparse import csr_matrix\n",
    "import math\n",
    "import operator\n",
    "from sklearn.preprocessing import normalize\n",
    "import numpy"
   ]
  },
  {
   "cell_type": "code",
   "execution_count": 11,
   "metadata": {},
   "outputs": [],
   "source": [
    "def fit_1(dataset):\n",
    "    \"\"\"\n",
    "    fit is a function that takes the dataset and returns the vocabulary which is a dataset with words \n",
    "    as keys and their dimensions as values\n",
    "    \"\"\"\n",
    "    unique_words = set()\n",
    "    if isinstance(dataset, (list,)):\n",
    "        for row in dataset:\n",
    "            for word in row.split(\" \"):\n",
    "                if len(word) < 2:\n",
    "                    continue\n",
    "                unique_words.add(word)\n",
    "        unique_words = sorted(list(unique_words))\n",
    "        vocab = {j:i for i,j in enumerate(unique_words)}\n",
    "        return vocab\n",
    "    else:\n",
    "        print(\"you need to pass list of sentance\")"
   ]
  },
  {
   "cell_type": "code",
   "execution_count": 12,
   "metadata": {},
   "outputs": [],
   "source": [
    "def transform_1(dataset,vocab):\n",
    "    \"\"\"\n",
    "    transform is a function that takes the dataset(corpus) and vocab as inputs and returns the tfidf csr matrix. \n",
    "    \"\"\"\n",
    "    # Calculating the word repetition matrix. The row denotes the sentence and the column denotes the word\n",
    "    # who's dimension is taken from the vocab.\n",
    "    # First the words_reps is calculated as a csr matrix and then, it is converted to a normal array. \n",
    "    \n",
    "    rows = []\n",
    "    columns = []\n",
    "    values = []\n",
    "    for idx, row in enumerate(tqdm(dataset)):\n",
    "        word_freq = dict(Counter(row.split()))\n",
    "        for word, freq in word_freq.items():   \n",
    "            if len(word) < 2:\n",
    "                continue\n",
    "            col_index = vocab.get(word, -1)\n",
    "            if col_index !=-1:\n",
    "                rows.append(idx)\n",
    "                columns.append(col_index)\n",
    "                values.append(freq)\n",
    "    word_reps = csr_matrix((values, (rows,columns)), shape=(len(dataset),len(vocab))).toarray()\n",
    "    \n",
    "    # Calculating the tf of the dataset. tf can be calculated by dividing each row of the word repition matrix\n",
    "    # with the length of the sentence/document. \n",
    "    \n",
    "    tf = []\n",
    "    for x_row, doc in enumerate(corpus_1):\n",
    "        doc_words = list(doc.split())\n",
    "        doc_len = 0\n",
    "        for word in doc_words:\n",
    "            if len(word) >= 2:\n",
    "                doc_len += 1\n",
    "        tf.append(word_reps[x_row]/doc_len)\n",
    "    \n",
    "    # Calculating the IDF values. This can be calculated using word reps matrix. We iterate over all rows of each\n",
    "    # column while keeping track of non zero values and at the end we calculated the IDF values. These values are \n",
    "    # stored in a list where each column \n",
    "    # corresponds to it's respective word's dimension. \n",
    "    \n",
    "    idf = []\n",
    "    temp = 0\n",
    "    n_docs_1 = len(dataset)\n",
    "    for n_col in range(len(word_reps[0])):\n",
    "        for n_row in range(len(dataset)):\n",
    "            if word_reps[n_row][n_col] > 0:\n",
    "                temp += 1\n",
    "        idf.append(1+math.log((1+n_docs_1)/(1+temp)))\n",
    "        temp = 0\n",
    "\n",
    "    # Calculating the tf-idf values in a csr matrix. If either the tf or idf value of a word in a sentence is a zero,\n",
    "    # it's skipped. If it's a non zero then the row value, column value, tf-idf value are added to the lists and\n",
    "    # csr matrix is returned.  \n",
    "    \n",
    "    rows = []\n",
    "    columns = []\n",
    "    values = []\n",
    "    for row in range(len(word_reps)):\n",
    "        for col in range(len(word_reps[0])):\n",
    "            if tf[row][col] != 0 and idf[col] != 0:\n",
    "                rows.append(row)\n",
    "                columns.append(col)\n",
    "                values.append(tf[row][col]*idf[col])\n",
    "    return csr_matrix((values, (rows,columns)), shape=(len(dataset),len(vocab)))"
   ]
  },
  {
   "cell_type": "markdown",
   "metadata": {},
   "source": [
    "Getting the vocabulary using the corpus"
   ]
  },
  {
   "cell_type": "code",
   "execution_count": 13,
   "metadata": {},
   "outputs": [],
   "source": [
    "vocab_1 = fit_1(corpus_1)"
   ]
  },
  {
   "cell_type": "markdown",
   "metadata": {},
   "source": [
    "Calculating the tf-idf and normalizing to l2. Also printing the output obtained using sklearn for comparision. "
   ]
  },
  {
   "cell_type": "code",
   "execution_count": 14,
   "metadata": {},
   "outputs": [
    {
     "name": "stderr",
     "output_type": "stream",
     "text": [
      "100%|████████████████████████████████████████████████████| 4/4 [00:00<?, ?it/s]"
     ]
    },
    {
     "name": "stdout",
     "output_type": "stream",
     "text": [
      "[[0.         0.46979139 0.58028582 0.38408524 0.         0.\n",
      "  0.38408524 0.         0.38408524]\n",
      " [0.         0.6876236  0.         0.28108867 0.         0.53864762\n",
      "  0.28108867 0.         0.28108867]\n",
      " [0.51184851 0.         0.         0.26710379 0.51184851 0.\n",
      "  0.26710379 0.51184851 0.26710379]\n",
      " [0.         0.46979139 0.58028582 0.38408524 0.         0.\n",
      "  0.38408524 0.         0.38408524]]\n",
      "\n",
      "\n",
      "\n",
      "[[0.         0.46979139 0.58028582 0.38408524 0.         0.\n",
      "  0.38408524 0.         0.38408524]\n",
      " [0.         0.6876236  0.         0.28108867 0.         0.53864762\n",
      "  0.28108867 0.         0.28108867]\n",
      " [0.51184851 0.         0.         0.26710379 0.51184851 0.\n",
      "  0.26710379 0.51184851 0.26710379]\n",
      " [0.         0.46979139 0.58028582 0.38408524 0.         0.\n",
      "  0.38408524 0.         0.38408524]]\n"
     ]
    },
    {
     "name": "stderr",
     "output_type": "stream",
     "text": [
      "\n"
     ]
    }
   ],
   "source": [
    "tf_idf_1 = normalize(transform_1(corpus_1, vocab_1).toarray(), norm='l2')\n",
    "print(tf_idf_1)\n",
    "print(\"\\n\\n\")\n",
    "print(skl_output.toarray())"
   ]
  },
  {
   "cell_type": "markdown",
   "metadata": {
    "colab_type": "text",
    "id": "MMxBmVZExLjK"
   },
   "source": [
    "## Task-2"
   ]
  },
  {
   "cell_type": "markdown",
   "metadata": {
    "colab_type": "text",
    "id": "51j_OtqAxLjL"
   },
   "source": [
    "<font face='georgia'>\n",
    "    <h4><strong>2. Implement max features functionality:</strong></h4>\n",
    "\n",
    "<ul>\n",
    "    <li> As a part of this task you have to modify your fit and transform functions so that your vocab will contain only 50 terms with top idf scores.</li>\n",
    "    <br>\n",
    "    <li>This task is similar to your previous task, just that here your vocabulary is limited to only top 50 features names based on their idf values. Basically your output will have exactly 50 columns and the number of rows will depend on the number of documents you have in your corpus.</li>\n",
    "    <br>\n",
    "    <li>Here you will be give a pickle file, with file name <strong>cleaned_strings</strong>. You would have to load the corpus from this file and use it as input to your tfidf vectorizer.</li>\n",
    "    <br>\n",
    "    <li>Steps to approach this task:\n",
    "    <ol>\n",
    "        <li> You would have to write both fit and transform methods for your custom implementation of tfidf vectorizer, just like in the previous task. Additionally, here you have to limit the number of features generated to 50 as described above.</li>\n",
    "        <li> Now sort your vocab based in descending order of idf values and print out the words in the sorted voacb after you fit your data. Here you should be getting only 50 terms in your vocab. And make sure to print idf values for each term in your vocab. </li>\n",
    "        <li> Make sure the output of your implementation is a sparse matrix. Before generating the final output, you need to normalize your sparse matrix using L2 normalization. You can refer to this link https://scikit-learn.org/stable/modules/generated/sklearn.preprocessing.normalize.html </li>\n",
    "        <li> Now check the output of a single document in your collection of documents,  you can convert the sparse matrix related only to that document into dense matrix and print it. And this dense matrix should contain 1 row and 50 columns. </li>\n",
    "        </ol>\n",
    "    </li>\n",
    "    <br>\n",
    "   </ul>"
   ]
  },
  {
   "cell_type": "code",
   "execution_count": 15,
   "metadata": {},
   "outputs": [],
   "source": [
    "def fit_2(dataset):    \n",
    "    \"\"\"\n",
    "    The fit function for this task is unchanged. It still returns the same vocabulary. The idf selection is \n",
    "    performed in the transform function\n",
    "    \"\"\"\n",
    "    unique_words = set()\n",
    "    if isinstance(dataset, (list,)):\n",
    "        for row in dataset:\n",
    "            for word in row.split(\" \"):\n",
    "                if len(word) < 2:\n",
    "                    continue\n",
    "                unique_words.add(word)\n",
    "        unique_words = sorted(list(unique_words))\n",
    "        vocab = {j:i for i,j in enumerate(unique_words)}\n",
    "        \n",
    "        return vocab\n",
    "    else:\n",
    "        print(\"you need to pass list of sentance\")"
   ]
  },
  {
   "cell_type": "code",
   "execution_count": 16,
   "metadata": {},
   "outputs": [],
   "source": [
    "def transform_2(dataset,vocab):\n",
    "    \"\"\"\n",
    "    The transform function is modified in such a way that it calculated the idf values, sorted and the top values \n",
    "    and their corresponding indices are kept track of. \n",
    "    Then these indices are used to select the correspond tf-values from the entire tf value set. \n",
    "    The transform function still returns the same value i.e., the tf-idf values. But this time it only returns\n",
    "    tf-idf for 50 features\n",
    "    \"\"\"\n",
    "    # Calculating the word repetition matrix. The row denotes the sentence and the column denotes the word\n",
    "    # who's dimension is taken from the vocab.\n",
    "    # First the words_reps is calculated as a csr matrix and then, it is converted to a normal array.     \n",
    "    rows = []\n",
    "    columns = []\n",
    "    values = []\n",
    "    for idx, row in enumerate(dataset):\n",
    "        word_freq = dict(Counter(row.split()))\n",
    "        for word, freq in word_freq.items():   \n",
    "            if len(word) < 2:\n",
    "                continue\n",
    "            col_index = vocab.get(word, -1)\n",
    "            if col_index !=-1:\n",
    "                rows.append(idx)\n",
    "                columns.append(col_index)\n",
    "                values.append(freq)\n",
    "    word_reps = csr_matrix((values, (rows,columns)), shape=(len(dataset),len(vocab))).toarray()\n",
    "    \n",
    "    # Calculating the tf of the dataset. tf can be calculated by dividing each row of the word repition \n",
    "    # matrix with the length of the sentence/document. \n",
    "    tf = []\n",
    "    for x_row, doc in enumerate(dataset):\n",
    "        doc_words = list(doc.split())\n",
    "        doc_len = len(doc_words)\n",
    "        tf.append(word_reps[x_row]/doc_len)\n",
    "    \n",
    "    # Calculating the idf value# Calculating the IDF values. This can be calculated using word reps matrix. \n",
    "    # We iterate over all rows of each column while keeping track of non zero values and at the end we calculated\n",
    "    # the IDF values. These values are stored in a list where each column \n",
    "    # corresponds to it's respective word's dimension. \n",
    "    \n",
    "    idf = []\n",
    "    temp = 0\n",
    "    n_docs_1 = len(dataset)\n",
    "    for n_col in range(len(word_reps[0])):\n",
    "        for n_row in range(len(dataset)):\n",
    "            if word_reps[n_row][n_col] > 0:\n",
    "                temp += 1\n",
    "        idf.append(1+math.log((1+n_docs_1)/(1+temp)))\n",
    "        temp = 0\n",
    "\n",
    "    # Obtaining the top 50 values' indices by converting the converting into an np array, argsorting and getting\n",
    "    #the last 50 values. These indices are stored in top_idf_indices list\n",
    "    # Then the top idf values are obtained using list comprehension\n",
    "    # The top tf values can be obtained by deleting all columns except the top_idf_indices \n",
    "    # all_other_indices will contain indices of top 51-2886 values. This is necessary to drop those columns from\n",
    "    #the tf-matrix\n",
    "    # tf_top will contain the tf values for the correspoinding top idf values. \n",
    "    \n",
    "    top_idf_indices = numpy.array(idf).argsort()[-50:][::-1]\n",
    "    top_idf_indices.sort()\n",
    "    all_other_indices = []\n",
    "    for i in range(len(word_reps[0])):\n",
    "        if i not in top_idf_indices:\n",
    "            all_other_indices.append(i)\n",
    "    top_idf = [idf[i] for i in top_idf_indices]\n",
    "    tf_np = numpy.array(tf)\n",
    "    tf_top = numpy.delete(tf_np, all_other_indices, axis=1)\n",
    "    tf_top = tf_top.tolist()    \n",
    "    \n",
    "    # Printing top features and their IDF values\n",
    "    top_features = {list(vocab.keys())[list(vocab.values()).index(i)]:idf[i] for i in top_idf_indices}\n",
    "    \n",
    "    # Calculating the tf-idf values and returning their csr matrix\n",
    "    rows = []\n",
    "    columns = []\n",
    "    values = []\n",
    "    for row in range(len(word_reps)):\n",
    "        for col in range(50):\n",
    "            if tf_top[row][col] != 0 and idf[col] != 0:\n",
    "                rows.append(row)\n",
    "                columns.append(col)\n",
    "                values.append(tf_top[row][col]*top_idf[col])\n",
    "    return csr_matrix((values, (rows,columns)), shape=(len(dataset),50)), top_features"
   ]
  },
  {
   "cell_type": "markdown",
   "metadata": {},
   "source": [
    "Importing the dataset"
   ]
  },
  {
   "cell_type": "code",
   "execution_count": 17,
   "metadata": {},
   "outputs": [
    {
     "name": "stdout",
     "output_type": "stream",
     "text": [
      "Number of documents in corpus_2 =  746\n"
     ]
    }
   ],
   "source": [
    "import pickle\n",
    "with open('./datasets/cleaned_strings', 'rb') as f:\n",
    "    corpus_2 = pickle.load(f)\n",
    "    \n",
    "print(\"Number of documents in corpus_2 = \",len(corpus_2))"
   ]
  },
  {
   "cell_type": "markdown",
   "metadata": {},
   "source": [
    "Fitting the dataset to get the vocabulary"
   ]
  },
  {
   "cell_type": "code",
   "execution_count": 18,
   "metadata": {},
   "outputs": [],
   "source": [
    "vocab_2 = fit_2(corpus_2)"
   ]
  },
  {
   "cell_type": "markdown",
   "metadata": {},
   "source": [
    "Passing the dataset and the vocabulary to the transform function to get the csr matrix, top features and then normalizing tfidf to l2"
   ]
  },
  {
   "cell_type": "code",
   "execution_count": 19,
   "metadata": {},
   "outputs": [],
   "source": [
    "tf_idf_2, top_features = transform_2(corpus_2, vocab_2)\n",
    "tf_idf_2 = normalize(tf_idf_2, norm = 'l2')"
   ]
  },
  {
   "cell_type": "markdown",
   "metadata": {},
   "source": [
    "Printing the top_features based on idf values"
   ]
  },
  {
   "cell_type": "code",
   "execution_count": 20,
   "metadata": {},
   "outputs": [
    {
     "name": "stdout",
     "output_type": "stream",
     "text": [
      "{'gone': 6.922918004572872, 'gosh': 6.922918004572872, 'goth': 6.922918004572872, 'gotta': 6.922918004572872, 'gotten': 6.922918004572872, 'government': 6.922918004572872, 'grade': 6.922918004572872, 'gradually': 6.922918004572872, 'grainy': 6.922918004572872, 'granted': 6.922918004572872, 'graphics': 6.922918004572872, 'grasp': 6.922918004572872, 'grates': 6.922918004572872, 'halfway': 6.922918004572872, 'ham': 6.922918004572872, 'handle': 6.922918004572872, 'handles': 6.922918004572872, 'hang': 6.922918004572872, 'hankies': 6.922918004572872, 'hanks': 6.922918004572872, 'happiness': 6.922918004572872, 'happy': 6.922918004572872, 'harris': 6.922918004572872, 'hatred': 6.922918004572872, 'havilland': 6.922918004572872, 'hay': 6.922918004572872, 'hayao': 6.922918004572872, 'hayworth': 6.922918004572872, 'hbo': 6.922918004572872, 'heads': 6.922918004572872, 'hearts': 6.922918004572872, 'heartwarming': 6.922918004572872, 'heche': 6.922918004572872, 'heels': 6.922918004572872, 'heist': 6.922918004572872, 'helen': 6.922918004572872, 'hellish': 6.922918004572872, 'helms': 6.922918004572872, 'help': 6.922918004572872, 'helping': 6.922918004572872, 'hendrikson': 6.922918004572872, 'hernandez': 6.922918004572872, 'hero': 6.922918004572872, 'heroes': 6.922918004572872, 'heroine': 6.922918004572872, 'heroism': 6.922918004572872, 'hes': 6.922918004572872, 'hide': 6.922918004572872, 'higher': 6.922918004572872, 'zombiez': 6.922918004572872}\n"
     ]
    }
   ],
   "source": [
    "print(top_features)"
   ]
  },
  {
   "cell_type": "markdown",
   "metadata": {},
   "source": [
    "Printing the normalized tf_idf values"
   ]
  },
  {
   "cell_type": "code",
   "execution_count": 21,
   "metadata": {},
   "outputs": [
    {
     "name": "stdout",
     "output_type": "stream",
     "text": [
      "  (19, 10)\t0.7745966692414833\n",
      "  (19, 12)\t0.25819888974716115\n",
      "  (19, 19)\t0.25819888974716115\n",
      "  (19, 32)\t0.25819888974716115\n",
      "  (19, 33)\t0.25819888974716115\n",
      "  (19, 37)\t0.25819888974716115\n",
      "  (19, 38)\t0.25819888974716115\n",
      "  (94, 1)\t1.0\n",
      "  (101, 0)\t1.0\n",
      "  (104, 15)\t1.0\n",
      "  (109, 36)\t0.7071067811865476\n",
      "  (109, 49)\t0.7071067811865476\n",
      "  (132, 43)\t1.0\n",
      "  (135, 4)\t0.5773502691896258\n",
      "  (135, 7)\t0.5773502691896258\n",
      "  (135, 20)\t0.5773502691896258\n",
      "  (180, 48)\t1.0\n",
      "  (191, 25)\t0.7071067811865475\n",
      "  (191, 44)\t0.7071067811865475\n",
      "  (197, 27)\t1.0\n",
      "  (222, 46)\t1.0\n",
      "  (225, 23)\t1.0\n",
      "  (232, 47)\t1.0\n",
      "  (234, 13)\t1.0\n",
      "  (236, 40)\t1.0\n",
      "  (253, 17)\t1.0\n",
      "  (270, 34)\t1.0\n",
      "  (277, 2)\t1.0\n",
      "  (323, 6)\t1.0\n",
      "  (343, 9)\t1.0\n",
      "  (371, 3)\t1.0\n",
      "  (421, 45)\t1.0\n",
      "  (430, 24)\t1.0\n",
      "  (437, 42)\t1.0\n",
      "  (459, 35)\t1.0\n",
      "  (462, 39)\t1.0\n",
      "  (475, 18)\t1.0\n",
      "  (532, 16)\t1.0\n",
      "  (533, 21)\t1.0\n",
      "  (539, 14)\t1.0\n",
      "  (572, 22)\t1.0\n",
      "  (610, 8)\t1.0\n",
      "  (625, 29)\t1.0\n",
      "  (628, 41)\t1.0\n",
      "  (633, 11)\t1.0\n",
      "  (644, 31)\t1.0\n",
      "  (660, 28)\t1.0\n",
      "  (681, 30)\t1.0\n",
      "  (703, 5)\t1.0\n",
      "  (714, 26)\t1.0\n"
     ]
    }
   ],
   "source": [
    "print(tf_idf_2)"
   ]
  }
 ],
 "metadata": {
  "colab": {
   "collapsed_sections": [],
   "name": "Assignment_3_Instructions.ipynb",
   "provenance": []
  },
  "kernelspec": {
   "display_name": "Python 3",
   "language": "python",
   "name": "python3"
  },
  "language_info": {
   "codemirror_mode": {
    "name": "ipython",
    "version": 3
   },
   "file_extension": ".py",
   "mimetype": "text/x-python",
   "name": "python",
   "nbconvert_exporter": "python",
   "pygments_lexer": "ipython3",
   "version": "3.6.12"
  }
 },
 "nbformat": 4,
 "nbformat_minor": 4
}
