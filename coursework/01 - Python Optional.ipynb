{
  "nbformat": 4,
  "nbformat_minor": 0,
  "metadata": {
    "kernelspec": {
      "display_name": "Python 3",
      "language": "python",
      "name": "python3"
    },
    "language_info": {
      "codemirror_mode": {
        "name": "ipython",
        "version": 3
      },
      "file_extension": ".py",
      "mimetype": "text/x-python",
      "name": "python",
      "nbconvert_exporter": "python",
      "pygments_lexer": "ipython3",
      "version": "3.7.9"
    },
    "colab": {
      "name": "Python Practice Questions.ipynb",
      "provenance": [],
      "collapsed_sections": []
    }
  },
  "cells": [
    {
      "cell_type": "markdown",
      "metadata": {
        "id": "pfa1OZ67lIBk"
      },
      "source": [
        "<h3>Question 1</h3>\n",
        "\n",
        "<h4>Write a function that inputs a number and prints the multiplication table of that number</h4>"
      ]
    },
    {
      "cell_type": "code",
      "metadata": {
        "id": "av3EAj9hlIBx",
        "outputId": "755fafe2-db6c-40a5-a12d-352788453308",
        "colab": {
          "base_uri": "https://localhost:8080/"
        }
      },
      "source": [
        "def print_multiplication_table(number, limit):\n",
        "    \"\"\"\n",
        "    This program takes two inputs; The number whose multiplication table is to be printed and the limit till where the table \n",
        "    is to be printed. This program does not return any value to the calling function\n",
        "    \"\"\"\n",
        "    for i in range(limit):\n",
        "        print(\"{0} X {1} = {2}\".format(number, i, number*i))\n",
        "        \n",
        "#Taking the number and the limit as user inputs|\n",
        "num = int(input(\"Enter the number whose table is to be printed:\"))\n",
        "limit = int(input(\"Enter the limit till where the table is to be printed:\"))\n",
        "\n",
        "print_multiplication_table(num, limit)"
      ],
      "execution_count": 97,
      "outputs": [
        {
          "output_type": "stream",
          "text": [
            "Enter the number whose table is to be printed:9\n",
            "Enter the limit till where the table is to be printed:15\n",
            "9 X 0 = 0\n",
            "9 X 1 = 9\n",
            "9 X 2 = 18\n",
            "9 X 3 = 27\n",
            "9 X 4 = 36\n",
            "9 X 5 = 45\n",
            "9 X 6 = 54\n",
            "9 X 7 = 63\n",
            "9 X 8 = 72\n",
            "9 X 9 = 81\n",
            "9 X 10 = 90\n",
            "9 X 11 = 99\n",
            "9 X 12 = 108\n",
            "9 X 13 = 117\n",
            "9 X 14 = 126\n"
          ],
          "name": "stdout"
        }
      ]
    },
    {
      "cell_type": "markdown",
      "metadata": {
        "id": "rgqZmj_clIB-"
      },
      "source": [
        "<h3>Question 2</h3>\n",
        "\n",
        "<h4>Write a program to print twin primes less than 1000. If two consecutive odd numbers are\n",
        "both prime then they are known as twin primes</h4>"
      ]
    },
    {
      "cell_type": "code",
      "metadata": {
        "scrolled": true,
        "id": "Watpt2-plIB_",
        "outputId": "241927c6-f97a-4ff2-8f5f-1937e337b130",
        "colab": {
          "base_uri": "https://localhost:8080/"
        }
      },
      "source": [
        "\"\"\"\n",
        "One method is using a for loop and iterating over all numbers. Another method is to store all prime numbers under 1000\n",
        "in an array and checking the difference of consecutive elements. Using Sieve of Eratosthenes to get the array of primes.\n",
        "\"\"\"\n",
        "\n",
        "def get_sieve_list():\n",
        "    \"\"\"\n",
        "    This function returns a list containing all prime numbers under 1000\n",
        "    \"\"\"\n",
        "    # List is initialized to ones initially. \n",
        "    sieve_list = [1 for i in range(1001)]\n",
        "    sieve_list[0] = 0\n",
        "    sieve_list[1] = 0\n",
        "    i = 2\n",
        "    # Iterating from 2 till number whose square is less than or equal to 1000\n",
        "    while(i**2 <= 1000):\n",
        "        # If sieve_list[i] is 1, that means it's value hasn't been modified meaning it's a prime number\n",
        "        if(sieve_list[i] == 1):\n",
        "            # Converting all multiples of i to 0, indicating that they are not prime numbers\n",
        "            for j in range(i*2, 1001, i):\n",
        "                sieve_list[j] = 0\n",
        "        i += 1\n",
        "    # Creating an empty list that will contain prime numbers\n",
        "    primes_list = []\n",
        "    # Adding the indices of elements whose value is 1, i.e., prime\n",
        "    for i in range(1000):\n",
        "        if(sieve_list[i] == 1):\n",
        "            primes_list.append(i)\n",
        "    # Returning the prime numbers list\n",
        "    return primes_list\n",
        "    \n",
        "primes_list = get_sieve_list()\n",
        "\n",
        "# Creating an empty twin_primes list that will contain a list of tuples where each tuple is a set of twin primes.\n",
        "twin_primes = []\n",
        "\n",
        "# Iterating over the primes_list list looking for twin primes\n",
        "for i in range(1, len(primes_list)-1):\n",
        "    if(primes_list[i+1] - primes_list[i] == 2):\n",
        "        twin_primes.append(tuple([primes_list[i], primes_list[i+1]]))\n",
        "\n",
        "# Printing the twin primes\n",
        "print(\"The twin primes under 1000 are:\")\n",
        "for twin_prime in twin_primes:\n",
        "    print(twin_prime)    "
      ],
      "execution_count": 98,
      "outputs": [
        {
          "output_type": "stream",
          "text": [
            "The twin primes under 1000 are:\n",
            "(3, 5)\n",
            "(5, 7)\n",
            "(11, 13)\n",
            "(17, 19)\n",
            "(29, 31)\n",
            "(41, 43)\n",
            "(59, 61)\n",
            "(71, 73)\n",
            "(101, 103)\n",
            "(107, 109)\n",
            "(137, 139)\n",
            "(149, 151)\n",
            "(179, 181)\n",
            "(191, 193)\n",
            "(197, 199)\n",
            "(227, 229)\n",
            "(239, 241)\n",
            "(269, 271)\n",
            "(281, 283)\n",
            "(311, 313)\n",
            "(347, 349)\n",
            "(419, 421)\n",
            "(431, 433)\n",
            "(461, 463)\n",
            "(521, 523)\n",
            "(569, 571)\n",
            "(599, 601)\n",
            "(617, 619)\n",
            "(641, 643)\n",
            "(659, 661)\n",
            "(809, 811)\n",
            "(821, 823)\n",
            "(827, 829)\n",
            "(857, 859)\n",
            "(881, 883)\n"
          ],
          "name": "stdout"
        }
      ]
    },
    {
      "cell_type": "markdown",
      "metadata": {
        "id": "-_UnTPB9lICF"
      },
      "source": [
        "<h3>Question 3</h3>\n",
        "\n",
        "<h4>Write a program to find out the prime factors of a number. Example: prime factors of 56 -\n",
        "2, 2, 2, 7</h4>\n"
      ]
    },
    {
      "cell_type": "code",
      "metadata": {
        "id": "q0oceco5lICG",
        "outputId": "3d346006-333c-4f25-850c-006f4810c536",
        "colab": {
          "base_uri": "https://localhost:8080/"
        }
      },
      "source": [
        "import math\n",
        "\n",
        "def print_prime_factors(num):\n",
        "    \"\"\"\n",
        "    This program takes a number as an input and prints it's prime factors\n",
        "    \"\"\"\n",
        "    # Empty list to which prime factors will be appended\n",
        "    prime_factors = []\n",
        "    # If the number is even, keep dividing it with 2 until it becomes odd while appending 2 to the list every iteration\n",
        "    while num%2 == 0:\n",
        "        prime_factors.append(2)\n",
        "        num /= 2\n",
        "    # Looking for odd numbers that divide the number till sqrt(number). Adding the number if it divides the number to the list\n",
        "    for i in range(3, int(math.sqrt(num))+1, 2):\n",
        "        while(num%i == 0):\n",
        "            prime_factors.append(int(i))\n",
        "            num /= i\n",
        "    # At this point if the number is still greater than 2, then it means the number is a prime number itself.\n",
        "    # Appending the remaining value to the list\n",
        "    if num > 2:\n",
        "        prime_factors.append(int(num))\n",
        "    return prime_factors\n",
        "\n",
        "# Taking user input\n",
        "num = int(input(\"Enter the number whose prime factors are to be printed:\"))\n",
        "print(\"The prime factors of the number are:\", print_prime_factors(num))      \n",
        "\n",
        "\n",
        "\n",
        "#References:\n",
        "#1. https://www.geeksforgeeks.org/print-all-prime-factors-of-a-given-number/"
      ],
      "execution_count": 99,
      "outputs": [
        {
          "output_type": "stream",
          "text": [
            "Enter the number whose prime factors are to be printed:56\n",
            "The prime factors of the number are: [2, 2, 2, 7]\n"
          ],
          "name": "stdout"
        }
      ]
    },
    {
      "cell_type": "markdown",
      "metadata": {
        "id": "cokpA_9olICK"
      },
      "source": [
        "<h3>Question 4</h3>\n",
        "\n",
        "#### Write a program to implement these formulae of permutations and combinations. Number of permutations of n objects taken r at a time: p(n, r) = n! / (n-r)!. Number of combinations of n objects taken r at a time is: c(n, r) = n! / (r!*(n-r)!) = p(n,r) / r!\n"
      ]
    },
    {
      "cell_type": "code",
      "metadata": {
        "id": "XUV5jJ2llICL",
        "outputId": "d0ede1fd-fd04-4562-8ed8-6673c7252927",
        "colab": {
          "base_uri": "https://localhost:8080/"
        }
      },
      "source": [
        "def fact(n):\n",
        "    \"\"\"\n",
        "    This function takes a value as an input and returns it's factorial\n",
        "    \"\"\"\n",
        "    if n==0 or n==1:\n",
        "        return 1\n",
        "    else:\n",
        "        return n * fact(n-1)\n",
        "\n",
        "# Taking user input for the values n and r\n",
        "n, r = [int(x) for x in input(\"Enter the values of n and r seperated by a space: \").split()]\n",
        "\n",
        "#Printing the values\n",
        "print(\"The number of permutations of n objects taken r at a time are: \" + str(int(fact(n)/fact(n-r))))\n",
        "print(\"The number of combinations of n onjects taken r at a time are: \" + str(int(fact(n)/(fact(r)*fact(n-r)))))"
      ],
      "execution_count": 100,
      "outputs": [
        {
          "output_type": "stream",
          "text": [
            "Enter the values of n and r seperated by a space: 10 2\n",
            "The number of permutations of n objects taken r at a time are: 90\n",
            "The number of combinations of n onjects taken r at a time are: 45\n"
          ],
          "name": "stdout"
        }
      ]
    },
    {
      "cell_type": "markdown",
      "metadata": {
        "id": "DGJWDM1NlICO"
      },
      "source": [
        "<h3>Question 5</h3>\n",
        "\n",
        "#### Write a function that converts a decimal number to binary number\n"
      ]
    },
    {
      "cell_type": "code",
      "metadata": {
        "id": "iN4hk1HtlICP",
        "outputId": "c7edd7b5-fdc2-4561-ebd3-2f6445912e41",
        "colab": {
          "base_uri": "https://localhost:8080/"
        }
      },
      "source": [
        "def print_binary(num):\n",
        "    \"\"\"\n",
        "    This function takes the input in decimal format and returns a string in binary format \n",
        "    by repeatedly dividing the number by 2 and adding the remainder to the end of the \n",
        "    string. \n",
        "    \"\"\"\n",
        "    # Handling boundary case\n",
        "    if num == 0:\n",
        "      return str(0)\n",
        "    bin_n = \"\"\n",
        "    while(num != 0):\n",
        "      bin_n += str(num%2) \n",
        "      num //= 2\n",
        "    return bin_n[::-1]\n",
        "\n",
        "# Taking the input in decimal\n",
        "num = int(input(\"Enter the number in decimal format: \"))\n",
        "print(\"The Binary representation of the given number is: \" + print_binary(num))"
      ],
      "execution_count": 101,
      "outputs": [
        {
          "output_type": "stream",
          "text": [
            "Enter the number in decimal format: 13\n",
            "The Binary representation of the given number is: 1101\n"
          ],
          "name": "stdout"
        }
      ]
    },
    {
      "cell_type": "markdown",
      "metadata": {
        "id": "mbPjpNgVlKBx"
      },
      "source": [
        "### Question 6\n",
        "####Write a function cubesum() that accepts an integer and returns the sum of the cubes of individual digits of that number. Use this function to make functions PrintArmstrong() and isArmstrong() to print Armstrong numbers and to find whether is an Armstrong number."
      ]
    },
    {
      "cell_type": "code",
      "metadata": {
        "id": "IjhPDEV-pvDP",
        "outputId": "02ee5328-93dc-4961-d7ea-bb2490000b06",
        "colab": {
          "base_uri": "https://localhost:8080/"
        }
      },
      "source": [
        "def cubesum(num):\n",
        "  \"\"\"\n",
        "  This function takes an integer as an input and returns it's cubesum.\n",
        "  It iterates over the integer by temporarily typecasting it as a string\n",
        "  and calculates it's cube and adds it to the cubesum variable which is\n",
        "  initialized to 0\n",
        "  \"\"\"\n",
        "  cubesum = 0\n",
        "  for i in range(len(str(num))):\n",
        "    cubesum += int(str(num)[i])**3\n",
        "  return cubesum\n",
        "\n",
        "def PrintArmstrong(limit):\n",
        "  \"\"\"\n",
        "  This function takes a number as an input and prints the armstrong\n",
        "  numbers till a number\n",
        "  \"\"\"\n",
        "  for i in range(limit):\n",
        "    if(i == cubesum(i)):\n",
        "      print(i, end=\" \")\n",
        "\n",
        "def isArmstrong(num):\n",
        "  \"\"\"\n",
        "  This function takes a number as an input and returns true if it is\n",
        "  an Armstrong number or returns False if it isn't an Armstrong number.\n",
        "  \"\"\"\n",
        "  if num == cubesum(num):\n",
        "    return True\n",
        "  else:\n",
        "    return False\n",
        "\n",
        "# Taking user inputs\n",
        "limit = int(input(\"Enter the limit till where the Armstrong numbers are to be printed: \"))\n",
        "print(\"The Armstrong numbers till \" + str(limit) + \" are: \")\n",
        "PrintArmstrong(limit)\n",
        "num = int(input(\"\\nEnter the number that is to be checked for Armstrong property: \"))\n",
        "print(\"Given number is an Armstrong number\") if isArmstrong(num) else print(\"Given number is not an Armstrong number\")"
      ],
      "execution_count": 102,
      "outputs": [
        {
          "output_type": "stream",
          "text": [
            "Enter the limit till where the Armstrong numbers are to be printed: 500\n",
            "The Armstrong numbers till 500 are: \n",
            "0 1 153 370 371 407 \n",
            "Enter the number that is to be checked for Armstrong property: 371\n",
            "Given number is an Armstrong number\n"
          ],
          "name": "stdout"
        }
      ]
    },
    {
      "cell_type": "markdown",
      "metadata": {
        "id": "Fdbv_MFAqUfL"
      },
      "source": [
        "### Question 7\n",
        "#### Write a function prodDigits() that inputs a number and returns the product of digits of that number"
      ]
    },
    {
      "cell_type": "code",
      "metadata": {
        "id": "vdYQOloTujZi",
        "outputId": "b77c65af-b152-44bf-aaa1-3384425c9e54",
        "colab": {
          "base_uri": "https://localhost:8080/"
        }
      },
      "source": [
        "import functools\n",
        "\n",
        "def prodDigits(num):\n",
        "  \"\"\"\n",
        "  This function takes a number as an input and returns the product of digits of that number by using reduce function.\n",
        "  \"\"\"\n",
        "  product = 0\n",
        "  product = functools.reduce(lambda x, y: int(x) * int(y), list(str(num)))\n",
        "  return product\n",
        "\n",
        "# Taking user input\n",
        "num = int(input(\"Enter the number: \"))\n",
        "print(\"The product of the digits of the number is: \" + str(prodDigits(num)))"
      ],
      "execution_count": 103,
      "outputs": [
        {
          "output_type": "stream",
          "text": [
            "Enter the number: 56\n",
            "The product of the digits of the number is: 30\n"
          ],
          "name": "stdout"
        }
      ]
    },
    {
      "cell_type": "markdown",
      "metadata": {
        "id": "axNPyxVzxDRA"
      },
      "source": [
        "### Question 8\n",
        "#### If all digits of a number n are multiplied by each other repeating with the product, the one\n",
        "#### digit number obtained at last is called the multiplicative digital root of n. The number of\n",
        "#### times digits need to be multiplied to reach one digit is called the multiplicative persistance of n.\n",
        "#### Example: 86 -> 48 -> 32 -> 6 (MDR 6, MPersistence 3)\n",
        "#### 341 -> 12->2 (MDR 2, MPersistence 2)\n",
        "#### Using the function prodDigits() of previous exercise write functions MDR() and MPersistence() that input a number and\n",
        "#### return its multiplicative digital root andmultiplicative persistence respectively\n"
      ]
    },
    {
      "cell_type": "code",
      "metadata": {
        "id": "A3YrjCICxztu",
        "outputId": "4e1f1a13-8eb2-46e5-a60b-29d5be645a1f",
        "colab": {
          "base_uri": "https://localhost:8080/"
        }
      },
      "source": [
        "import functools\n",
        "\n",
        "def prodDigits(num):\n",
        "  \"\"\"\n",
        "  This function takes a number as an input and returns the product of digits of that number by using reduce function.\n",
        "  \"\"\"\n",
        "  product = 0\n",
        "  product = functools.reduce(lambda x, y: int(x) * int(y), list(str(num)))\n",
        "  return product\n",
        "\n",
        "def MDR(num):\n",
        "  \"\"\"\n",
        "  This function takes a number as an input and returns the Multiplicative Digital Root of the number using recursion.\n",
        "  \"\"\"\n",
        "  if num < 10:\n",
        "    return num\n",
        "  else:\n",
        "    return MDR(prodDigits(num))\n",
        "\n",
        "def MPersistence(num):\n",
        "  \"\"\"\n",
        "  This function takes a number as an input and returns the MPeristence of the number using recursion.\n",
        "  \"\"\"\n",
        "  if num < 10:\n",
        "    return 0\n",
        "  else:\n",
        "    return 1 + MPersistence(prodDigits(num))\n",
        "\n",
        "num = int(input(\"Enter the number for which MDR and MPersistence is to be found: \"))\n",
        "print(\"The Multiplicative Digital Root of the number {0} is {1} and it's MPersistence is {2}\".format(num, MDR(num), MPersistence(num)))"
      ],
      "execution_count": 104,
      "outputs": [
        {
          "output_type": "stream",
          "text": [
            "Enter the number for which MDR and MPersistence is to be found: 341\n",
            "The Multiplicative Digital Root of the number 341 is 2 and it's MPersistence is 2\n"
          ],
          "name": "stdout"
        }
      ]
    },
    {
      "cell_type": "markdown",
      "metadata": {
        "id": "xGvlNQxh4gOh"
      },
      "source": [
        "### Question 9\n",
        "\n",
        "####Write a function sumPdivisors() that finds the sum of proper divisors of a number. Proper\n",
        "####divisors of a number are those numbers by which the number is divisible, except the\n",
        "####number itself. For example proper divisors of 36 are 1, 2, 3, 4, 6, 9, 18"
      ]
    },
    {
      "cell_type": "code",
      "metadata": {
        "id": "gf6-rJDI4pE-",
        "outputId": "1e212909-2288-4608-8c79-93926c8a0043",
        "colab": {
          "base_uri": "https://localhost:8080/"
        }
      },
      "source": [
        "def sumPdivisors(num):\n",
        "  \"\"\"\n",
        "  This function return the sum of the proper divisors of the given number using iteration to iterate over numbers less than the number.\n",
        "  \"\"\"\n",
        "  sum = 0\n",
        "  for i in range(1, num//2+1):\n",
        "    if(num%i == 0):\n",
        "      sum += i\n",
        "  return sum\n",
        "\n",
        "#Taking user input\n",
        "num = int(input(\"Enter the number who's sum of proper divisors is to be found: \"))\n",
        "print(\"The sum of proper divisors of the given number is {0}\".format(sumPdivisors(num)))"
      ],
      "execution_count": 105,
      "outputs": [
        {
          "output_type": "stream",
          "text": [
            "Enter the number who's sum of proper divisors is to be found: 36\n",
            "The sum of proper divisors of the given number is 55\n"
          ],
          "name": "stdout"
        }
      ]
    },
    {
      "cell_type": "markdown",
      "metadata": {
        "id": "xUbejT984-Cj"
      },
      "source": [
        "### Question 10\n",
        "\n",
        "#### A number is called perfect if the sum of proper divisors of that number is equal to the\n",
        "#### number. For example 28 is perfect number, since 1+2+4+7+14=28. Write a program to\n",
        "#### print all the perfect numbers in a given range"
      ]
    },
    {
      "cell_type": "code",
      "metadata": {
        "id": "nZgGOOfB6C8f",
        "outputId": "53f14c4a-edfb-455c-b898-65211e7b7cf2",
        "colab": {
          "base_uri": "https://localhost:8080/"
        }
      },
      "source": [
        "def sumPdivisors(num):\n",
        "  \"\"\"\n",
        "  This function return the sum of the proper divisors of the given number using iteration to iterate over numbers less than the given number.\n",
        "  \"\"\"\n",
        "  sum = 0\n",
        "  for i in range(1, num//2+1):\n",
        "    if(num%i == 0):\n",
        "      sum += i\n",
        "  return sum\n",
        "\n",
        "# Taking user input\n",
        "lower_limit, upper_limit = [int(x) for x in input(\"Enter the lower and upper limits of the range to find the perfect numbers: \").split()]\n",
        "\n",
        "print(\"Perfect numbers in the given range are: \")\n",
        "\n",
        "for num in range(lower_limit, upper_limit+1):\n",
        "  if(num == sumPdivisors(num)):\n",
        "    print(num)"
      ],
      "execution_count": 106,
      "outputs": [
        {
          "output_type": "stream",
          "text": [
            "Enter the lower and upper limits of the range to find the perfect numbers: 1 100\n",
            "Perfect numbers in the given range are: \n",
            "6\n",
            "28\n"
          ],
          "name": "stdout"
        }
      ]
    },
    {
      "cell_type": "markdown",
      "metadata": {
        "id": "kyvggq5W9_lv"
      },
      "source": [
        "### Question 11\n",
        "#### Two different numbers are called amicable numbers if the sum of the proper divisors of\n",
        "#### each is equal to the other number. For example 220 and 284 are amicable numbers.\n",
        "#### Write a function to print pairs of amicable numbers in a range"
      ]
    },
    {
      "cell_type": "code",
      "metadata": {
        "id": "LTv9wuqh7giF",
        "outputId": "108c9e9e-0866-49bb-b976-0f5456172a20",
        "colab": {
          "base_uri": "https://localhost:8080/"
        }
      },
      "source": [
        "def sumPdivisors(num):\n",
        "  \"\"\"\n",
        "  This function return the sum of the proper divisors of the given number using iteration to iterate over numbers less than the given number.\n",
        "  \"\"\"\n",
        "  sum = 0\n",
        "  for i in range(1, num//2+1):\n",
        "    if(num%i == 0):\n",
        "      sum += i\n",
        "  return sum\n",
        "\n",
        "# Taking user input\n",
        "lower_limit, upper_limit = [int(x) for x in input(\"Enter the lower and upper limits of the range to find the paris of amicable numbers: \").split()]\n",
        "\n",
        "print(\"Amicable pairs in the given range are: \")\n",
        "\n",
        "# Creating a list that store amicable numbers to prevent repitions of the same pair\n",
        "amicable_numbers = []\n",
        "\n",
        "for i in range(lower_limit, upper_limit+1):\n",
        "  temp = sumPdivisors(i)\n",
        "  if(sumPdivisors(temp) == i and temp <= upper_limit):\n",
        "    if i not in amicable_numbers and temp not in amicable_numbers:\n",
        "      print(tuple([i, temp]))\n",
        "      amicable_numbers.extend([i, temp])"
      ],
      "execution_count": 107,
      "outputs": [
        {
          "output_type": "stream",
          "text": [
            "Enter the lower and upper limits of the range to find the paris of amicable numbers: 200 300\n",
            "Amicable pairs in the given range are: \n",
            "(220, 284)\n"
          ],
          "name": "stdout"
        }
      ]
    },
    {
      "cell_type": "markdown",
      "metadata": {
        "id": "UEmSG2H_9-CA"
      },
      "source": [
        "### Question 12\n",
        "#### Write a program which can filter odd numbers in a list by using filter function"
      ]
    },
    {
      "cell_type": "code",
      "metadata": {
        "id": "a9S-t_xL-gK2",
        "outputId": "c0b3d837-a686-4590-a99a-8cb0002078ad",
        "colab": {
          "base_uri": "https://localhost:8080/"
        }
      },
      "source": [
        "# Taking the list as an input from the user\n",
        "nums = [int(x) for x in input(\"Enter the elements of the list\").split()]\n",
        "#Using lambda functinos to filter out the even numbers and storing them in a list called odd_nums\n",
        "odd_nums = list(filter(lambda x: x%2 != 0, nums))\n",
        "print(\"The odd numbers in the entered list are: \")\n",
        "print(odd_nums)"
      ],
      "execution_count": 108,
      "outputs": [
        {
          "output_type": "stream",
          "text": [
            "Enter the elements of the list1 2 3 9 8 7\n",
            "The odd numbers in the entered list are: \n",
            "[1, 3, 9, 7]\n"
          ],
          "name": "stdout"
        }
      ]
    },
    {
      "cell_type": "markdown",
      "metadata": {
        "id": "UZG17VJg-PHV"
      },
      "source": [
        "### Question 13\n",
        "#### Write a program which can map() to make a list whose elements are cube of elements in a given list"
      ]
    },
    {
      "cell_type": "code",
      "metadata": {
        "id": "ePkQEJdh-gh1",
        "outputId": "202bbcb6-b653-44e1-eb63-a0ea8f5c10cf",
        "colab": {
          "base_uri": "https://localhost:8080/"
        }
      },
      "source": [
        "# Taking the list as an input from the user\n",
        "nums = [int(x) for x in input(\"Enter the elements of the list\").split()]\n",
        "# Using lambda functions and map to store cubes in a list\n",
        "nums_cubes = list(map(lambda x: x**3, nums))\n",
        "print(\"The cubes of the given numbers are: \")\n",
        "print(nums_cubes)"
      ],
      "execution_count": 109,
      "outputs": [
        {
          "output_type": "stream",
          "text": [
            "Enter the elements of the list1 2 3 9 8 7\n",
            "The cubes of the given numbers are: \n",
            "[1, 8, 27, 729, 512, 343]\n"
          ],
          "name": "stdout"
        }
      ]
    },
    {
      "cell_type": "markdown",
      "metadata": {
        "id": "C0MpmfT7-RZz"
      },
      "source": [
        "### Question 14\n",
        "#### Write a program which can map() and filter() to make a list whose elements are cube of even number in a given list"
      ]
    },
    {
      "cell_type": "code",
      "metadata": {
        "id": "QT8z4fYM-g8D",
        "outputId": "651ef4c8-3b81-4e48-c178-fc0913a00b0e",
        "colab": {
          "base_uri": "https://localhost:8080/"
        }
      },
      "source": [
        "# Taking the list as an input from the user\n",
        "nums = [int(x) for x in input(\"Enter the elements of the list: \").split()]\n",
        "# Using filter to filter out the odd numbers and passing them to map as an iterable to get the cubes of all even numbers\n",
        "nums_even_cubes = list(map(lambda x: x**3, list(filter(lambda x: x%2 == 0, nums))))\n",
        "print(\"The cubes of all even numbers in the given list are: \")\n",
        "print(nums_even_cubes)"
      ],
      "execution_count": 110,
      "outputs": [
        {
          "output_type": "stream",
          "text": [
            "Enter the elements of the list: 1 2 3 9 8 7\n",
            "The cubes of all even numbers in the given list are: \n",
            "[8, 512]\n"
          ],
          "name": "stdout"
        }
      ]
    }
  ]
}
