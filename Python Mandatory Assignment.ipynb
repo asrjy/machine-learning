{
 "cells": [
  {
   "cell_type": "markdown",
   "metadata": {
    "id": "l0ZzOlyxB-kf"
   },
   "source": [
    "<h1>Python: without numpy or sklearn </h1>"
   ]
  },
  {
   "cell_type": "markdown",
   "metadata": {
    "id": "C0xO8JV9B-ki"
   },
   "source": [
    "<h3> Q1: Given two matrices please print the product of those two matrices </h3>\n",
    "<pre>\n",
    "\n",
    "Ex 1: A   = [[1 3 4]\n",
    "             [2 5 7]\n",
    "             [5 9 6]]\n",
    "      B   = [[1 0 0]\n",
    "             [0 1 0]\n",
    "             [0 0 1]]\n",
    "      A*B = [[1 3 4]\n",
    "             [2 5 7]\n",
    "             [5 9 6]]\n",
    "\n",
    "     \n",
    "Ex 2: A   = [[1 2]\n",
    "             [3 4]]\n",
    "      B   = [[1 2 3 4 5]\n",
    "             [5 6 7 8 9]]\n",
    "      A*B = [[11 14 17 20 23]\n",
    "             [23 30 36 42 51]]\n",
    "             \n",
    "Ex 3: A   = [[1 2]\n",
    "             [3 4]]\n",
    "      B   = [[1 4]\n",
    "             [5 6]\n",
    "             [7 8]\n",
    "             [9 6]]\n",
    "      A*B =Not possible\n",
    "</pre>"
   ]
  },
  {
   "cell_type": "code",
   "execution_count": 1,
   "metadata": {
    "colab": {
     "base_uri": "https://localhost:8080/"
    },
    "id": "rnssAfpgB-kj",
    "outputId": "6e1f223b-6fe0-4e7f-fcdf-b1764c3d3349"
   },
   "outputs": [
    {
     "name": "stdout",
     "output_type": "stream",
     "text": [
      "Enter the number of rows and columns of Matrix A: 3 3\n",
      "Enter the number of rows and columns of Matrix B: 3 3\n",
      "Enter the rows of Matrix A: \n",
      "1 0 0\n",
      "0 1 0\n",
      "0 0 1\n",
      "Enter the rows of Matrix B: \n",
      "1 2 3\n",
      "4 5 6\n",
      "7 8 9\n",
      "The Multiplication of the given matrices is:\n",
      "[1, 2, 3]\n",
      "[4, 5, 6]\n",
      "[7, 8, 9]\n"
     ]
    }
   ],
   "source": [
    "def matrix_mul(A, B):\n",
    "    \"\"\"\n",
    "    This function takes two matrices A and B as inputs and returns the resultant matrix after multiplying them.\n",
    "    \"\"\"\n",
    "    r_a = len(A)\n",
    "    c_a = len(A[0])\n",
    "    r_b = len(B)\n",
    "    c_b = len(B[0])\n",
    "    if c_a != r_b:\n",
    "        return 0\n",
    "    else:\n",
    "        AB = [[0 for i in range(c_b)] for j in range(r_a)]\n",
    "        for i in range(c_a):\n",
    "            for j in range(r_b):\n",
    "                for k in range(r_b):\n",
    "                    AB[i][j] += A[i][k] * B[k][j]\n",
    "        return(AB)\n",
    "\n",
    "# Taking the rows and columns of both matrices as inputs\n",
    "r_a, c_a = input(\"Enter the number of rows and columns of Matrix A: \").split()\n",
    "r_b, c_b = input(\"Enter the number of rows and columns of Matrix B: \").split()\n",
    "\n",
    "# Declaring three matrices,one for A, one for B and the remaining one that will be used to take the rows as input\n",
    "A = []\n",
    "B = []\n",
    "temp = []\n",
    "\n",
    "# Verifying whether the columns of A and rows of B match. If they don't print error and exit. Else take their inputs and multiply them.\n",
    "if c_a != r_b:\n",
    "    print(\"Multiplication of Matrices with given dimensions is not possible.\")\n",
    "else:\n",
    "    # Taking A's values as inputs\n",
    "    print(\"Enter the rows of Matrix A: \")\n",
    "    for i in range(int(r_a)):\n",
    "        temp = [int(i) for i in input().split(\" \")]\n",
    "        A.append(temp)\n",
    "\n",
    "    # Taking B's values as inputs\n",
    "    print(\"Enter the rows of Matrix B: \")\n",
    "    for i in range(int(r_a)):\n",
    "        temp = [int(i) for i in input().split(\" \")]\n",
    "        B.append(temp)\n",
    "    \n",
    "    # Calling the function matrix_mul and storing the result in AB and printing it. \n",
    "    AB = matrix_mul(A,B)\n",
    "    print(\"The Multiplication of the given matrices is:\")\n",
    "    for i in AB:\n",
    "        print(i)"
   ]
  },
  {
   "cell_type": "markdown",
   "metadata": {
    "id": "at4VwLggB-kn"
   },
   "source": [
    "<h3> Q2: Select a number randomly with probability proportional to its magnitude from the given array of n elements</h3>\n",
    "\n",
    "consider an experiment, selecting an element from the list A randomly with probability proportional to its magnitude.\n",
    "assume we are doing the same experiment for 100 times with replacement, in each experiment you will print a number that is selected randomly from A.\n",
    "\n",
    "<pre>\n",
    "Ex 1: A = [0 5 27 6 13 28 100 45 10 79]\n",
    "let f(x) denote the number of times x getting selected in 100 experiments.\n",
    "f(100) > f(79) > f(45) > f(28) > f(27) > f(13) > f(10) > f(6) > f(5) > f(0)\n",
    "</pre>"
   ]
  },
  {
   "cell_type": "code",
   "execution_count": 2,
   "metadata": {
    "id": "B6S2dpBhB-kn"
   },
   "outputs": [
    {
     "data": {
      "text/plain": [
       "{0: 0, 5: 1, 27: 13, 6: 1, 13: 7, 28: 12, 100: 28, 45: 14, 10: 2, 79: 21}"
      ]
     },
     "execution_count": 2,
     "metadata": {},
     "output_type": "execute_result"
    }
   ],
   "source": [
    "import random\n",
    "\n",
    "def pick_a_number_from_list(A):\n",
    "    \"\"\"\n",
    "    This function takes a list as an input and returns a single value after using proportional sampling\n",
    "    \"\"\"\n",
    "    # Calculating the sum of all elements in the list\n",
    "    sum_A = sum(A)\n",
    "    # A_d is an array after normalizing the values using the sum\n",
    "    A_d = [i/sum_A for i in A]\n",
    "    # Creating the cumulative normalized sum using the elements of the list and storing the elements in A_t\n",
    "    temp = 0\n",
    "    A_t = [A_d[0]]\n",
    "    for i in range(1,len(A_d)):\n",
    "        A_t.append(A_t[i-1]+A_d[i])\n",
    "    # Getting a random_num between 0 and 1 with uniform sampling. \n",
    "    random_num = random.uniform(0,1)\n",
    "    # Using proportional sampling rule to get the value based on the probability\n",
    "    for i in range(len(A_t)):\n",
    "        if random_num <= A_t[i]:\n",
    "            return A[i]\n",
    "\n",
    "def sampling_based_on_magnitude():\n",
    "    \"\"\"\n",
    "    This function picks a random value from the list A based on it's size 100 times.  \n",
    "    \"\"\"\n",
    "    for i in range(1,100):\n",
    "        number = pick_a_number_from_list(A)\n",
    "        # disp_res is a dictionary that keeps a track of the number of times a number has been picked. \n",
    "        disp_res[number] += 1\n",
    "        \n",
    "A = [0, 5, 27, 6, 13, 28, 100, 45, 10, 79]\n",
    "disp_res = {i:0 for i in A}\n",
    "\n",
    "sampling_based_on_magnitude()\n",
    "\n",
    "disp_res"
   ]
  },
  {
   "cell_type": "markdown",
   "metadata": {
    "id": "D1xQy2WWB-kq"
   },
   "source": [
    "<h3> Q3: Replace the digits in the string with #</h3>\n",
    "\n",
    "consider a string that will have digits in that, we need to remove all the not digits and replace the digits with #\n",
    "<pre>\n",
    "Ex 1: A = 234                Output: ###\n",
    "Ex 2: A = a2b3c4             Output: ###\n",
    "Ex 3: A = abc                Output:   (empty string)\n",
    "Ex 5: A = #2a$#b%c%561#      Output: ####\n",
    "</pre>"
   ]
  },
  {
   "cell_type": "code",
   "execution_count": 3,
   "metadata": {
    "id": "fxczi2jzB-kr"
   },
   "outputs": [
    {
     "name": "stdout",
     "output_type": "stream",
     "text": [
      "#2a$#b%c%561#\n",
      "####"
     ]
    }
   ],
   "source": [
    "def replace_digits():\n",
    "    \"\"\"\n",
    "    This function takes an input and prints a # everytime a number is found in the string by iterating over it.\n",
    "    \"\"\"\n",
    "    # Taking the input and storing it in a variable called 'string'\n",
    "    string = input()\n",
    "    # nums is a list of all numbers\n",
    "    nums = list(\"0123456789\")\n",
    "    # Iterating over the individual characters of the string and checking if it exists in the list nums. If it does, print a '#'\n",
    "    for i in range(len(string)):\n",
    "        if string[i] in nums:\n",
    "            print(\"#\", end=\"\")\n",
    "\n",
    "replace_digits()"
   ]
  },
  {
   "cell_type": "markdown",
   "metadata": {
    "id": "j7h0Ywg7B-kw"
   },
   "source": [
    "<h3> Q4: Students marks dashboard</h3>\n",
    "\n",
    "consider the marks list of class students given two lists <br>\n",
    "Students = ['student1','student2','student3','student4','student5','student6','student7','student8','student9','student10'] <br>\n",
    "Marks = [45, 78, 12, 14, 48, 43, 45, 98, 35, 80] <br>\n",
    "from the above two lists the Student[0] got Marks[0],  Student[1] got Marks[1] and so on <br><br>\n",
    "your task is to print the name of students\n",
    "<strong>a. Who got top 5 ranks, in the descending order of marks</strong> <br>\n",
    "<strong>b. Who got least 5 ranks, in the increasing order of marks</strong><br>\n",
    "<strong>d. Who got marks between  &gt;25th percentile &lt;75th percentile, in the increasing order of marks</strong>\n",
    "\n",
    "<pre>\n",
    "Ex 1: \n",
    "Students=['student1','student2','student3','student4','student5','student6','student7','student8','student9','student10'] \n",
    "Marks = [45, 78, 12, 14, 48, 43, 47, 98, 35, 80]\n",
    "a. \n",
    "student8  98\n",
    "student10 80\n",
    "student2  78\n",
    "student5  48\n",
    "student7  47\n",
    "b.\n",
    "student3 12\n",
    "student4 14\n",
    "student9 35\n",
    "student6 43\n",
    "student1 45\n",
    "c.\n",
    "student9 35\n",
    "student6 43\n",
    "student1 45\n",
    "student7 47\n",
    "student5 48\n",
    "</pre>"
   ]
  },
  {
   "cell_type": "code",
   "execution_count": 4,
   "metadata": {
    "id": "cxPJgItsB-kx"
   },
   "outputs": [
    {
     "name": "stdout",
     "output_type": "stream",
     "text": [
      "Top 5 Students\n",
      " {'student8': 98, 'student10': 80, 'student2': 78, 'student5': 48, 'student7': 47}\n",
      "Last 5 Students:\n",
      " {'student3': 12, 'student4': 14, 'student9': 35, 'student6': 43, 'student1': 45}\n",
      "Students Between 25th and 75th Percentile:\n",
      " {'student9': 35, 'student6': 43, 'student1': 45, 'student7': 47, 'student5': 48}\n"
     ]
    }
   ],
   "source": [
    "import math\n",
    "\n",
    "def display_dash_board(students, marks):\n",
    "    \"\"\"\n",
    "    This function takes two lists, students and marks, and returns the names and marks of top 5, last 5 and 25th to 75th percentile. \n",
    "    \"\"\"\n",
    "    # marks_stu is a dictionary containing the scores as keys and their original indices as items. \n",
    "    marks_stu = {score:index for index,score in enumerate(marks)}\n",
    "    \n",
    "    # sorting the marks in descending order and using the dictionary to get the indices and using the indices to get the names.\n",
    "    marks.sort(reverse=True)\n",
    "    top_5_students = {students[marks_stu[i]]:i for i in marks[:5]}\n",
    "    \n",
    "    # sorting the marks in ascending order and using the dictionary to get the indices and using the indices to get the names.\n",
    "    marks.sort()\n",
    "    least_5_students = {students[marks_stu[i]]:i for i in marks[:5]}\n",
    "    \n",
    "    # a and b are the 25th and 75th percentile values and a_i and b_i are the indices of the values. \n",
    "    # we use these indices to get all the values between them. \n",
    "    a = sorted(marks)[int(math.ceil((10 * 25) / 100)) - 1]\n",
    "    b = sorted(marks)[int(math.ceil((10 * 75) / 100)) - 1]\n",
    "    a_i, b_i = marks.index(a), marks.index(b)\n",
    "    students_within_25_and_75 = {students[marks_stu[i]]:i for i in marks[a_i:b_i]}\n",
    "    \n",
    "    return top_5_students, least_5_students, students_within_25_and_75\n",
    "\n",
    "students=['student1','student2','student3','student4','student5','student6','student7','student8','student9','student10'] \n",
    "marks = [45, 78, 12, 14, 48, 43, 47, 98, 35, 80]\n",
    "\n",
    "top_5_students, least_5_students, students_within_25_and_75 = display_dash_board(students, marks)\n",
    "print(\"Top 5 Students\\n\", top_5_students)\n",
    "print(\"Last 5 Students:\\n\", least_5_students)\n",
    "print(\"Students Between 25th and 75th Percentile:\\n\", students_within_25_and_75)"
   ]
  },
  {
   "cell_type": "markdown",
   "metadata": {
    "id": "qha0OhQHB-k1"
   },
   "source": [
    "<h3> Q5: Find the closest points</h3>\n",
    "\n",
    "consider you have given n data points in the form of list of tuples like S=[(x1,y1),(x2,y2),(x3,y3),(x4,y4),(x5,y5),..,(xn,yn)] and a point P=(p,q) <br> your task is to find 5 closest points(based on cosine distance) in S from P\n",
    "<br>cosine distance between two points (x,y) and (p,q) is defind as $cos^{-1}(\\frac{(x\\cdot p+y\\cdot q)}{\\sqrt(x^2+y^2)\\cdot\\sqrt(p^2+q^2)})$\n",
    "<pre>\n",
    "Ex:\n",
    "\n",
    "S= [(1,2),(3,4),(-1,1),(6,-7),(0, 6),(-5,-8),(-1,-1)(6,0),(1,-1)]\n",
    "P= (3,-4)\n",
    "<img src='https://i.imgur.com/vIFPOcG.jpg', width=300>\n",
    "Output:\n",
    "(6,-7)\n",
    "(1,-1)\n",
    "(6,0)\n",
    "(-5,-8)\n",
    "(-1,-1)\n",
    "</pre>"
   ]
  },
  {
   "cell_type": "code",
   "execution_count": 5,
   "metadata": {
    "id": "wA5I1g-2B-k2"
   },
   "outputs": [
    {
     "name": "stdout",
     "output_type": "stream",
     "text": [
      "[(6, -7), (1, -1), (6, 0), (-5, -8), (-1, -1)]\n"
     ]
    }
   ],
   "source": [
    "import math\n",
    "\n",
    "def closest_points_to_p(S, P):\n",
    "    \"\"\"\n",
    "    This function takes two inputs and returns the 5 closest points to P.\n",
    "    \"\"\"\n",
    "    # points_dict is a dictionary with points as keys and the distance from P as the item. Initially all the items are intialized to 0.\n",
    "    points_dict = {point:0 for point in S}\n",
    "    # changing the items of keys to the distance from P\n",
    "    for i in S:\n",
    "        points_dict[i] = math.acos(((P[0]*i[0])+(P[1]*i[1]))/(math.sqrt(i[0]**2+i[1]**2)*math.sqrt(P[0]**2+P[1]**2)))\n",
    "    # getting the 5 closest points by sorting the items by ascending order and storing them in a list\n",
    "    closest_points = list(i[0] for i in sorted(points_dict.items(),key=lambda item: item[1])[:5])\n",
    "    return closest_points\n",
    "\n",
    "S = [(1,2),(3,4),(-1,1),(6,-7),(0, 6),(-5,-8),(-1,-1),(6,0),(1,-1)]\n",
    "P = (3,-4)\n",
    "\n",
    "points = closest_points_to_p(S, P)\n",
    "print(points) "
   ]
  },
  {
   "cell_type": "markdown",
   "metadata": {
    "id": "-g11jeAiB-k5"
   },
   "source": [
    "<h3> Q6: Find Which line separates oranges and apples</h3>\n",
    "consider you have given two set of data points in the form of list of tuples like \n",
    "<pre>\n",
    "Red =[(R11,R12),(R21,R22),(R31,R32),(R41,R42),(R51,R52),..,(Rn1,Rn2)]\n",
    "Blue=[(B11,B12),(B21,B22),(B31,B32),(B41,B42),(B51,B52),..,(Bm1,Bm2)]\n",
    "</pre>\n",
    "and set of line equations(in the string formate, i.e list of strings)\n",
    "<pre>\n",
    "Lines = [a1x+b1y+c1,a2x+b2y+c2,a3x+b3y+c3,a4x+b4y+c4,..,K lines]\n",
    "Note: you need to string parsing here and get the coefficients of x,y and intercept\n",
    "</pre>\n",
    "your task is to for each line that is given print \"YES\"/\"NO\", you will print yes, if all the red points are one side of the line and blue points are other side of the line, otherwise no\n",
    "<pre>\n",
    "Ex:\n",
    "Red= [(1,1),(2,1),(4,2),(2,4), (-1,4)]\n",
    "Blue= [(-2,-1),(-1,-2),(-3,-2),(-3,-1),(1,-3)]\n",
    "Lines=[\"1x+1y+0\",\"1x-1y+0\",\"1x+0y-3\",\"0x+1y-0.5\"]\n",
    "<img src='https://i.imgur.com/DoQf7mE.jpg' width=400>\n",
    "Output:\n",
    "YES\n",
    "NO\n",
    "NO\n",
    "YES\n",
    "</pre>"
   ]
  },
  {
   "cell_type": "code",
   "execution_count": 6,
   "metadata": {
    "id": "eRxExaTRB-k6"
   },
   "outputs": [
    {
     "name": "stdout",
     "output_type": "stream",
     "text": [
      "YES\n",
      "NO\n",
      "NO\n",
      "YES\n"
     ]
    }
   ],
   "source": [
    "import math\n",
    "import re\n",
    "\n",
    "def get_coeffs(line):\n",
    "    \"\"\"\n",
    "    this function takes a line as an input and compares it with ax+by+c and returns the values of a,b,c\n",
    "    \"\"\"\n",
    "    # splitting the line at x and y\n",
    "    line_coefs = re.split('x|y',line)\n",
    "    # since 'a' is at the beginning of the line it doesnt have a sign associated with it\n",
    "    a = float(line_coefs[0])\n",
    "    # if the first value of the the second string is a '+', ignore it and convert the remaining values to float and store it as b\n",
    "    if line_coefs[1][0] == \"+\":\n",
    "        b = float(line_coefs[1][1:])\n",
    "    # if it's a '-', convert the rest of it to float and multiply with -1\n",
    "    else:\n",
    "        b = float(line_coefs[1][1:]) * -1\n",
    "    # using the same logic as that of b to get the value of c\n",
    "    if line_coefs[2][0] == \"+\":\n",
    "        c = float(line_coefs[2][1:])\n",
    "    else:\n",
    "        c = float(line_coefs[2][1:]) * -1\n",
    "    # returning the values of a,b,c\n",
    "    return a,b,c\n",
    "    \n",
    "\n",
    "def get_same_side(red,blue,line):\n",
    "    \"\"\"\n",
    "    This function takes red and blue points and a line as the input and prints \"YES\" or \"NO\" depending on where the lie on the side of the line.\n",
    "    \"\"\"\n",
    "    # using the get_coeffs function to get the values of a, b and c.\n",
    "    a,b,c = get_coeffs(line)\n",
    "    # red_sign is a variable that stores the position of point w.r.t the line. We choose a point that's not lying on the line i.e., red_sign = 0\n",
    "    red_sign = 0\n",
    "    for i in range(len(red)):\n",
    "        if red[i][0]*a+red[i][1]*b+c == 0:\n",
    "            red_sign = 0\n",
    "        elif red[i][0]*a+red[i][1]*b+c > 0:  \n",
    "            red_sign = 1\n",
    "            break\n",
    "        else: \n",
    "            red_sign = -1 \n",
    "            break\n",
    "    # we now insert blue points into the line and if we get atleast one point on the same side of red, we abort and print \"NO\"\n",
    "    for point in blue:\n",
    "        if point[0]*a+point[1]*b+c == 0:\n",
    "            blue_sign = 0\n",
    "        elif point[0]*a+point[1]*b+c > 0:\n",
    "            blue_sign = 1\n",
    "        else:\n",
    "            blue_sign = -1\n",
    "        if blue_sign == red_sign:\n",
    "            return \"NO\"\n",
    "    # if all of the points lie on different sides and function hasn't returned \"NO\", we return \"YES\"\n",
    "    return \"YES\"\n",
    "\n",
    "Red= [(1,1),(2,1),(4,2),(2,4), (-1,4)]\n",
    "Blue= [(-2,-1),(-1,-2),(-3,-2),(-3,-1),(1,-3)]\n",
    "Lines=[\"1x+1y+0\",\"1x-1y+0\",\"1x+0y-3\",\"0x+1y-0.5\"]\n",
    "\n",
    "for i in Lines:\n",
    "    yes_or_no = get_same_side(Red, Blue, i)\n",
    "    print(yes_or_no)"
   ]
  },
  {
   "cell_type": "markdown",
   "metadata": {
    "id": "9OBpURbNB-k9"
   },
   "source": [
    "<h3> Q7: Filling the missing values in the specified formate</h3>\n",
    "You will be given a string with digits and '\\_'(missing value) symbols you have to replace the '\\_' symbols as explained \n",
    "<pre>\n",
    "Ex 1: _, _, _, 24 ==> 24/4, 24/4, 24/4, 24/4 i.e we. have distributed the 24 equally to all 4 places <br>\n",
    "Ex 2: 40, _, _, _, 60 ==> (60+40)/5,(60+40)/5,(60+40)/5,(60+40)/5,(60+40)/5 ==> 20, 20, 20, 20, 20 i.e. the sum of (60+40) is distributed qually to all 5 places<br>\n",
    "Ex 3: 80, _, _, _, _  ==> 80/5,80/5,80/5,80/5,80/5 ==> 16, 16, 16, 16, 16 i.e. the 80 is distributed qually to all 5 missing values that are right to it<br>\n",
    "Ex 4: _, _, 30, _, _, _, 50, _, _  \n",
    "==> we will fill the missing values from left to right \n",
    "    a. first we will distribute the 30 to left two missing values (10, 10, 10, _, _, _, 50, _, _)\n",
    "    b. now distribute the sum (10+50) missing values in between (10, 10, 12, 12, 12, 12, 12, _, _) \n",
    "    c. now we will distribute 12 to right side missing values (10, 10, 12, 12, 12, 12, 4, 4, 4)\n",
    "</pre>\n",
    "for a given string with comma seprate values, which will have both missing values numbers like ex: \"_, _, x, _, _, _\"\n",
    "you need fill the missing values\n",
    "\n",
    "Q: your program reads a string like ex: \"_, _, x, _, _, _\" and returns the filled sequence\n",
    "\n",
    "Ex: \n",
    "<pre>\n",
    "Input1: \"_,_,_,24\"\n",
    "Output1: 6,6,6,6\n",
    "\n",
    "Input2: \"40,_,_,_,60\"\n",
    "Output2: 20,20,20,20,20\n",
    "\n",
    "Input3: \"80,_,_,_,_\"\n",
    "Output3: 16,16,16,16,16\n",
    "\n",
    "Input4: \"_,_,30,_,_,_,50,_,_\"\n",
    "Output4: 10,10,12,12,12,12,4,4,4\n",
    "</pre>\n",
    "\n"
   ]
  },
  {
   "cell_type": "code",
   "execution_count": 7,
   "metadata": {
    "id": "nZmpzHs_B-k-"
   },
   "outputs": [
    {
     "name": "stdout",
     "output_type": "stream",
     "text": [
      "[6.0, 6.0, 6.0, 6.0]\n",
      "[20.0, 20.0, 20.0, 20.0, 20.0]\n",
      "[16.0, 16.0, 16.0, 16.0, 16.0]\n",
      "[10.0, 10.0, 12.0, 12.0, 12.0, 12.0, 4.0, 4.0, 4.0]\n"
     ]
    }
   ],
   "source": [
    "def mod_list(vals,value,a_i,b_i):\n",
    "    \"\"\"\n",
    "    This function takes a list, a value and two indices and replaces all values between the two indices with the value provided\n",
    "    and returns the list. \n",
    "    \"\"\"\n",
    "    for i in range(a_i,b_i+1):\n",
    "        vals[i] = value\n",
    "    return vals\n",
    "\n",
    "def curve_smoothing(string):\n",
    "    \"\"\"\n",
    "    This function takes a string as an input and returns a list after smoothing it's values\n",
    "    Approach: \n",
    "    Keep track of the last numerical value and it's index.\n",
    "    Keep track of number of '_'s encountered. \n",
    "    If a numerical value is seen, replace all values between the last seen number and current number.\n",
    "    Handle outlier cases.\n",
    "    \"\"\"\n",
    "    # vals is a list containing either '_' or numbers in the same order as that of the string. \n",
    "    vals = [int(i) if len(i) > 1 else i for i in string.split(\",\")]\n",
    "    \n",
    "    # last_val keeps track of the last seen numerical value\n",
    "    # last_index is the index of the last seen numerical value\n",
    "    # u_count keeps track of the number of underscores between two numerical values\n",
    "    last_val, last_index, u_count = 0,-1,0\n",
    "    \n",
    "    # now we iterate over the list of values and use mod_list function when necessary.\n",
    "    for i in range(len(vals)):\n",
    "        if vals[i]=='_':\n",
    "            u_count += 1\n",
    "        elif vals[i] != '_' and u_count != 0:\n",
    "            if last_index != -1:\n",
    "                # when there's no previous numerical value i.e., list starts with _\n",
    "                vals = mod_list(vals, (last_val+vals[i])/(u_count+2), last_index, i)\n",
    "                u_count = 0\n",
    "            else:\n",
    "                vals = mod_list(vals, vals[i]/(u_count+1), 0, i)\n",
    "                u_count = 0\n",
    "            last_val, last_index = vals[i],i\n",
    "        elif vals[i] != '_' and u_count == 0:\n",
    "            last_val, last_index = vals[i],i\n",
    "        if i == len(vals)-1 and vals[i]==\"_\":\n",
    "            # when the last value of the list is an _\n",
    "            vals = mod_list(vals, last_val/(u_count+1), last_index,i)\n",
    "            u_count = 0\n",
    "    return vals\n",
    "\n",
    "S=  [\"_,_,_,24\",\"40,_,_,_,60\",\"80,_,_,_,_\",\"_,_,30,_,_,_,50,_,_\"]\n",
    "\n",
    "for i in S:\n",
    "    smoothed_values= curve_smoothing(i)\n",
    "    print(smoothed_values)"
   ]
  },
  {
   "cell_type": "markdown",
   "metadata": {
    "id": "RBz4pzlfB-lB"
   },
   "source": [
    "<h3> Q8: Filling the missing values in the specified formate</h3>\n",
    "You will be given a list of lists, each sublist will be of length 2 i.e. [[x,y],[p,q],[l,m]..[r,s]]\n",
    "consider its like a martrix of n rows and two columns\n",
    "1. the first column F will contain only 5 uniques values (F1, F2, F3, F4, F5)\n",
    "2. the second column S will contain only 3 uniques values (S1, S2, S3)\n",
    "<pre>\n",
    "your task is to find\n",
    "a. Probability of P(F=F1|S==S1), P(F=F1|S==S2), P(F=F1|S==S3)\n",
    "b. Probability of P(F=F2|S==S1), P(F=F2|S==S2), P(F=F2|S==S3)\n",
    "c. Probability of P(F=F3|S==S1), P(F=F3|S==S2), P(F=F3|S==S3)\n",
    "d. Probability of P(F=F4|S==S1), P(F=F4|S==S2), P(F=F4|S==S3)\n",
    "e. Probability of P(F=F5|S==S1), P(F=F5|S==S2), P(F=F5|S==S3)\n",
    "</pre>\n",
    "Ex:\n",
    "\n",
    "<pre>\n",
    "[[F1,S1],\n",
    " [F2,S2],\n",
    " [F3,S3],\n",
    " [F1,S2],\n",
    " [F2,S3],\n",
    " [F3,S2],\n",
    " [F2,S1],\n",
    " [F4,S1],\n",
    " [F4,S3],\n",
    " [F5,S1]]\n",
    "\n",
    "a. P(F=F1|S==S1)=1/4, P(F=F1|S==S2)=1/3, P(F=F1|S==S3)=0/3\n",
    "b. P(F=F2|S==S1)=1/4, P(F=F2|S==S2)=1/3, P(F=F2|S==S3)=1/3\n",
    "c. P(F=F3|S==S1)=0/4, P(F=F3|S==S2)=1/3, P(F=F3|S==S3)=1/3\n",
    "d. P(F=F4|S==S1)=1/4, P(F=F4|S==S2)=0/3, P(F=F4|S==S3)=1/3\n",
    "e. P(F=F5|S==S1)=1/4, P(F=F5|S==S2)=0/3, P(F=F5|S==S3)=0/3\n",
    "</pre>\n",
    "\n",
    "\n"
   ]
  },
  {
   "cell_type": "code",
   "execution_count": 8,
   "metadata": {
    "id": "e-1giz1MB-lC"
   },
   "outputs": [
    {
     "name": "stdout",
     "output_type": "stream",
     "text": [
      "P(F=F1|S==S1)=1/4,  P(F=F1|S==S2)=1/3,  P(F=F1|S==S3)=0/3,  \n",
      "P(F=F2|S==S1)=1/4,  P(F=F2|S==S2)=1/3,  P(F=F2|S==S3)=1/3,  \n",
      "P(F=F3|S==S1)=0/4,  P(F=F3|S==S2)=1/3,  P(F=F3|S==S3)=1/3,  \n",
      "P(F=F4|S==S1)=1/4,  P(F=F4|S==S2)=0/3,  P(F=F4|S==S3)=1/3,  \n",
      "P(F=F5|S==S1)=1/4,  P(F=F5|S==S2)=0/3,  P(F=F5|S==S3)=0/3,  \n"
     ]
    }
   ],
   "source": [
    "def count(A, condition):\n",
    "    \"\"\"\n",
    "    This function takes a list and a condition and returns the number of times the condition is present in the list.\n",
    "    \"\"\"\n",
    "    count = 0\n",
    "    for i in A:\n",
    "        if i==condition:\n",
    "            count += 1\n",
    "    return count\n",
    "\n",
    "def compute_conditional_probabilites(A):\n",
    "    \"\"\"\n",
    "    This function takes a nested list A, and prints the required probabilities.\n",
    "    \"\"\"\n",
    "    # fs and ss are two tuples containing the possible values of F and S\n",
    "    fs = ('F1','F2','F3','F4','F5')\n",
    "    ss = ('S1','S2','S3')\n",
    "    \n",
    "    # s_c is a list that tracks the counts of S present in the list\n",
    "    s_c = [0, 0, 0]\n",
    "    # counting the number of times each S is present\n",
    "    for p in A:\n",
    "        if p[1] == 'S1':\n",
    "            s_c[0] += 1\n",
    "        elif p[1] == 'S2':\n",
    "            s_c[1] += 1\n",
    "        else:\n",
    "            s_c[2] += 1\n",
    "            \n",
    "    # we iterate over the two tuples fs and ss, to get all possible combinations and use count function to get the probability\n",
    "    for f in fs:\n",
    "        for index, s in enumerate(ss):\n",
    "            print(f\"P(F={f}|S=={s})={count(A, [f,s])}/{s_c[index]}, \", end = \" \")\n",
    "        print()\n",
    "\n",
    "A = [['F1','S1'],['F2','S2'],['F3','S3'],['F1','S2'],['F2','S3'],['F3','S2'],['F2','S1'],['F4','S1'],['F4','S3'],['F5','S1']]\n",
    "\n",
    "compute_conditional_probabilites(A)"
   ]
  },
  {
   "cell_type": "markdown",
   "metadata": {
    "id": "n4HS87QmB-lF"
   },
   "source": [
    "<h3> Q9: Given two sentances S1, S2</h3>\n",
    "You will be given two sentances S1, S2 your task is to find \n",
    "<pre>\n",
    "a. Number of common words between S1, S2\n",
    "b. Words in S1 but not in S2\n",
    "c. Words in S2 but not in S1\n",
    "</pre>\n",
    "\n",
    "Ex: \n",
    "<pre>\n",
    "S1= \"the first column F will contain only 5 uniques values\"\n",
    "S2= \"the second column S will contain only 3 uniques values\"\n",
    "Output:\n",
    "a. 7\n",
    "b. ['first','F','5']\n",
    "c. ['second','S','3']\n",
    "</pre>"
   ]
  },
  {
   "cell_type": "code",
   "execution_count": 9,
   "metadata": {
    "id": "Ez7hlHK0B-lG"
   },
   "outputs": [
    {
     "name": "stdout",
     "output_type": "stream",
     "text": [
      "7\n",
      "{'5', 'first', 'F'}\n",
      "{'3', 'S', 'second'}\n"
     ]
    }
   ],
   "source": [
    "def string_features(S1, S2):\n",
    "    \"\"\"\n",
    "    This function takes two strings S1 and S2 and performs the required set operations and prints it's outputs\n",
    "    \"\"\"\n",
    "    # splitting the string and storing them in a set to allow us to perform set operations on them\n",
    "    ss1 = set(S1.split())\n",
    "    ss2 = set(S2.split())\n",
    "    \n",
    "    # performing set operations and printing their outputs\n",
    "    print(len(ss1.intersection(ss2)))\n",
    "    print(ss1.difference(ss2))\n",
    "    print(ss2.difference(ss1))\n",
    "\n",
    "S1= \"the first column F will contain only 5 uniques values\"\n",
    "S2= \"the second column S will contain only 3 uniques values\"\n",
    "string_features(S1, S2)"
   ]
  },
  {
   "cell_type": "markdown",
   "metadata": {
    "id": "XefXVEjCB-lI"
   },
   "source": [
    "<h3> Q10: Given two sentances S1, S2</h3>\n",
    "You will be given a list of lists, each sublist will be of length 2 i.e. [[x,y],[p,q],[l,m]..[r,s]]\n",
    "consider its like a martrix of n rows and two columns\n",
    "\n",
    "a. the first column Y will contain interger values <br>\n",
    "b. the second column $Y_{score}$ will be having float values <br>\n",
    "Your task is to find the value of $f(Y,Y_{score}) = -1*\\frac{1}{n}\\Sigma_{for each Y,Y_{score} pair}(Ylog10(Y_{score})+(1-Y)log10(1-Y_{score}))$ here n is the number of rows in the matrix\n",
    "<pre>\n",
    "Ex:\n",
    "[[1, 0.4], [0, 0.5], [0, 0.9], [0, 0.3], [0, 0.6], [1, 0.1], [1, 0.9], [1, 0.8]]\n",
    "output:\n",
    "0.4243099\n",
    "</pre>\n",
    "$\\frac{-1}{8}\\cdot((1\\cdot log_{10}(0.4)+0\\cdot log_{10}(0.6))+(0\\cdot log_{10}(0.5)+1\\cdot log_{10}(0.5)) + ... + (1\\cdot log_{10}(0.8)+0\\cdot log_{10}(0.2)) )$"
   ]
  },
  {
   "cell_type": "code",
   "execution_count": 10,
   "metadata": {
    "id": "N9zkagyNB-lJ"
   },
   "outputs": [
    {
     "name": "stdout",
     "output_type": "stream",
     "text": [
      "0.42430993457031635\n"
     ]
    }
   ],
   "source": [
    "from math import log10\n",
    " \n",
    "def compute_log_loss(A):\n",
    "    \"\"\"\n",
    "    This function takes a nested list of numbers and prints the log loss of the values.\n",
    "    \"\"\"\n",
    "    # n stores the number of values in the list\n",
    "    n = len(A)\n",
    "    # sum keeps track of the sigma part of the equation and we use a for loop to iterate over the values and implement the equation\n",
    "    sum = 0\n",
    "    for pair in A:\n",
    "        sum += ((pair[0]*log10(pair[1]))+(1-pair[0])*log10(1-pair[1]))\n",
    "    \n",
    "    # multiplying the sum with -1/n to get the log loss and returing the log loss\n",
    "    loss = (-1)*(1/n)*sum\n",
    "    return loss\n",
    "\n",
    "A = [[1, 0.4], [0, 0.5], [0, 0.9], [0, 0.3], [0, 0.6], [1, 0.1], [1, 0.9], [1, 0.8]]\n",
    "loss = compute_log_loss(A)\n",
    "print(loss)"
   ]
  }
 ],
 "metadata": {
  "colab": {
   "collapsed_sections": [],
   "name": "Python Mandatory Assignment.ipynb",
   "provenance": []
  },
  "kernelspec": {
   "display_name": "Python 3",
   "language": "python",
   "name": "python3"
  },
  "language_info": {
   "codemirror_mode": {
    "name": "ipython",
    "version": 3
   },
   "file_extension": ".py",
   "mimetype": "text/x-python",
   "name": "python",
   "nbconvert_exporter": "python",
   "pygments_lexer": "ipython3",
   "version": "3.7.9"
  }
 },
 "nbformat": 4,
 "nbformat_minor": 4
}
